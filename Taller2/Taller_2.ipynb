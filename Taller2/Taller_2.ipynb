version https://git-lfs.github.com/spec/v1
oid sha256:57374d9d70607376102f40159eabbb1fcb72a6f0c23bc7479d1751c607739dfe
size 474727
