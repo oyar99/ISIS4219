{
  "cells": [
    {
      "cell_type": "markdown",
      "metadata": {
        "id": "SU_lch1DySrJ"
      },
      "source": [
        "<img src=\"https://raw.githubusercontent.com/hectormelo/Machine-Learning-Techniques/main/Banner.png\" ><br>\n",
        "# Machine Learning Techniques - MISIS4219\n",
        "\n",
        "Primer semestre - 2024\n"
      ]
    },
    {
      "cell_type": "markdown",
      "metadata": {
        "id": "t-qHyHs-ukQz"
      },
      "source": [
        "## Integrantes\n",
        "\n",
        "*   Carlos Raúl de la Rosa Peredo\n",
        "*   Jhon Stewar Rayo Mosquera"
      ]
    },
    {
      "cell_type": "markdown",
      "metadata": {
        "id": "5UbZ1aWajfMi"
      },
      "source": [
        "\n",
        "# **Taller 2**\n",
        "\n",
        "*GeoAlpes, una empresa líder en análisis geoespacial, está buscando mejorar sus técnicas de clasificación automática de imágenes satelitales. El objetivo es poder categorizar distintas características geográficas (como bosques, zonas industriales, zonas de cultivos permanentes, zonas residenciales y rios) con alta precisión y rapidez. Para lograrlo, están interesados en explorar las capacidades de los métodos ensemble.*\n",
        "\n",
        "1.  Exploración y Preparación de Datos\n",
        "\n",
        "    -   *Discuta las particularidades de las imágenes satelitales y sugiera técnicas extra de preprocesamiento de ser necesario.*\n",
        "\n",
        "2.  Implementación de Gradient Boosting\n",
        "\n",
        "    -   *Utilice Gradient Boosting como modelo base. Discuta las ventajas y desafíos de este método, y cómo afecta la precisión y robustez del clasificador. Además, compare el desempeño de Gradient Boosting con el modelo Random Forest presentado en la práctica, ¿logra observar mejoras significativas?*\n",
        "\n",
        "3. Implementación de un nuevo metodo Ensemble\n",
        "    - *Elija y presente un método ensemble de su preferencia.Introduzca y discuta el concepto del método elegido y cómo podría ser benéfico para la clasificación de imágenes satelitales.*\n",
        "    - *Compare el desempeño de su método elegido con Gradient Boosting y el modelo Random Forest. Discuta las ventajas y desventajas de cada uno.*\n",
        "\n",
        "4.  Optimización y Ajuste\n",
        "\n",
        "    -   *Realice una búsqueda de los mejores hiperparámetros para mejorar el desempeño de cada uno de los modelos implementados (Grid Search).*\n",
        "\n",
        "*Datos: [Enlace al sub conjunto del dataset de imágenes satelitales EuroSAT](https://github.com/hectormelo/Machine-Learning-Techniques/raw/main/Lab_2/EuroSAT3.zip)*\n"
      ]
    },
    {
      "cell_type": "markdown",
      "metadata": {
        "id": "zGMQayb-ukQ0"
      },
      "source": [
        "## 0. Importación de librerias"
      ]
    },
    {
      "cell_type": "code",
      "execution_count": 1,
      "metadata": {
        "id": "UqZ-B_LWukQ1"
      },
      "outputs": [
        {
          "name": "stderr",
          "output_type": "stream",
          "text": [
            "/home/raul/.local/lib/python3.10/site-packages/matplotlib/projections/__init__.py:63: UserWarning: Unable to import Axes3D. This may be due to multiple versions of Matplotlib being installed (e.g. as a system package and as a pip package). As a result, the 3D projection is not available.\n",
            "  warnings.warn(\"Unable to import Axes3D. This may be due to multiple versions of \"\n"
          ]
        }
      ],
      "source": [
        "import os\n",
        "import time\n",
        "import random\n",
        "\n",
        "import numpy as np\n",
        "\n",
        "import matplotlib.pyplot as plt\n",
        "\n",
        "from requests import get as get_request\n",
        "from zipfile import ZipFile\n",
        "from io import BytesIO\n",
        "\n",
        "import cv2\n",
        "\n",
        "from sklearn.preprocessing import StandardScaler # Escalamiento de datos\n",
        "from sklearn.decomposition import PCA # Análisis de componentes principales\n",
        "from sklearn.model_selection import train_test_split # División de datos en entrenamiento y prueba\n",
        "from sklearn.ensemble import GradientBoostingClassifier #Librería para manejo del algoritmo GradientBoostingClassifier\n",
        "from sklearn.ensemble import RandomForestClassifier #Librería para manejo del algoritmo RandomForestClassifier\n",
        "from sklearn.ensemble import HistGradientBoostingClassifier #Librería para manejo del algoritmo HistGradientBoostingClassifier\n",
        "from sklearn.model_selection import GridSearchCV # Búsqueda de hiperparámetros\n",
        "from sklearn.metrics import confusion_matrix, ConfusionMatrixDisplay # Matriz de confusión\n",
        "from sklearn.metrics import classification_report, accuracy_score # Reporte de clasificación y precisión"
      ]
    },
    {
      "cell_type": "markdown",
      "metadata": {
        "id": "Ny5zLlEmw_wX"
      },
      "source": [
        "## 1.1. Carga y entendimiento de los datos"
      ]
    },
    {
      "cell_type": "code",
      "execution_count": 2,
      "metadata": {
        "colab": {
          "base_uri": "https://localhost:8080/"
        },
        "id": "rvOZoL6eukQ1",
        "outputId": "3b6f4b15-6858-4687-dbb5-6cfdde9af46f"
      },
      "outputs": [
        {
          "name": "stdout",
          "output_type": "stream",
          "text": [
            "Archivo descargado y descomprimido correctamente!\n"
          ]
        }
      ],
      "source": [
        "# URL del archivo ZIP en el repositorio de GitHub\n",
        "url = 'https://github.com/hectormelo/Machine-Learning-Techniques/raw/main/Lab_2/EuroSAT3.zip'\n",
        "\n",
        "# Descargar el archivo ZIP\n",
        "response = get_request(url)\n",
        "zip_content = response.content\n",
        "# Descomprimir el contenido en memoria\n",
        "with ZipFile(BytesIO(zip_content)) as zip_file:\n",
        "    zip_file.extractall(\"./EuroSAT\")  # Especifica el directorio donde quieres descomprimir\n",
        "\n",
        "print(\"Archivo descargado y descomprimido correctamente!\")"
      ]
    },
    {
      "cell_type": "markdown",
      "metadata": {
        "id": "9MMiHRrNx3a6"
      },
      "source": [
        "El conjunto de datos contiene imagenes satelitales de regiones de tipo bosque (Forest), industriales (Industrial), cultivos (PermanentCrop), residenciales (Residential) y de rios (River). Vamos a proceder a cargar las imagenes en formato JPG en memoria"
      ]
    },
    {
      "cell_type": "code",
      "execution_count": 61,
      "metadata": {
        "id": "hah_5d6lukQ3"
      },
      "outputs": [],
      "source": [
        "def load_image(folder):\n",
        "    img, y = [], []\n",
        "\n",
        "    for file in os.listdir(folder):\n",
        "        path = os.path.join(folder, file)\n",
        "        for i in os.listdir(path):\n",
        "            # Read image using OpenCV\n",
        "            image = cv2.imread(os.path.join(path, i), cv2.IMREAD_COLOR)\n",
        "            # Pass image from BGR to RGB\n",
        "            image = cv2.cvtColor(image, cv2.COLOR_BGR2RGB)\n",
        "            # Resize image while preserving the number of channels\n",
        "            img.append(image)\n",
        "            y.append(file)\n",
        "\n",
        "    return np.array(img), np.array(y)"
      ]
    },
    {
      "cell_type": "code",
      "execution_count": 62,
      "metadata": {},
      "outputs": [],
      "source": [
        "#cargamos las imágenes hemos descargado en el sistema previamente\n",
        "# Las imagenes contienen tres canales (rojo, verde y azul) y su valor en cada pixel va de 0 a 255\n",
        "X, y = load_image('./EuroSAT')"
      ]
    },
    {
      "cell_type": "code",
      "execution_count": 63,
      "metadata": {
        "id": "7LRoaMm-yrdR"
      },
      "outputs": [],
      "source": [
        "#Partimos el conjunto de datos en un conjunto de entrenamiento (80%) y otro de test (20%)\n",
        "x_train, x_test, y_train, y_test = train_test_split(X, y, test_size=0.2, random_state=42)"
      ]
    },
    {
      "cell_type": "code",
      "execution_count": 64,
      "metadata": {
        "colab": {
          "base_uri": "https://localhost:8080/"
        },
        "id": "b6lQ2yw-zEHT",
        "outputId": "6c5ccbe2-bebe-46bb-b3ea-928e7c10a2e8"
      },
      "outputs": [
        {
          "data": {
            "text/plain": [
              "(3750, 64, 64, 3)"
            ]
          },
          "execution_count": 64,
          "metadata": {},
          "output_type": "execute_result"
        }
      ],
      "source": [
        "# Tamaño de los datos\n",
        "X.shape"
      ]
    },
    {
      "cell_type": "code",
      "execution_count": 65,
      "metadata": {
        "colab": {
          "base_uri": "https://localhost:8080/"
        },
        "id": "EUMW3r3Fzta-",
        "outputId": "78d06e3d-32d0-4b8b-8e55-517d4b45408f"
      },
      "outputs": [
        {
          "data": {
            "text/plain": [
              "(3000, 64, 64, 3)"
            ]
          },
          "execution_count": 65,
          "metadata": {},
          "output_type": "execute_result"
        }
      ],
      "source": [
        "# Tamaño de los datos de entrenamiento\n",
        "x_train.shape"
      ]
    },
    {
      "cell_type": "markdown",
      "metadata": {
        "id": "GCratbQk0aHw"
      },
      "source": [
        "En cuanto al conjunto de entrenamiento, tenemos en total 3000 imagenes que corresponden a 36.864.000 data points."
      ]
    },
    {
      "cell_type": "code",
      "execution_count": 66,
      "metadata": {
        "colab": {
          "base_uri": "https://localhost:8080/"
        },
        "id": "fxkNohDwzyKg",
        "outputId": "60276bd7-8a1e-41cc-8253-557314a3f6df"
      },
      "outputs": [
        {
          "data": {
            "text/plain": [
              "(750, 64, 64, 3)"
            ]
          },
          "execution_count": 66,
          "metadata": {},
          "output_type": "execute_result"
        }
      ],
      "source": [
        "# Tamaño de los datos de prueba\n",
        "x_test.shape"
      ]
    },
    {
      "cell_type": "markdown",
      "metadata": {
        "id": "6MD8K9yn0jhm"
      },
      "source": [
        "Finalmente, el conjunto de prueba consta de 750 imagenes, es decir 9.216.000 data points."
      ]
    },
    {
      "cell_type": "code",
      "execution_count": 67,
      "metadata": {
        "colab": {
          "base_uri": "https://localhost:8080/",
          "height": 524
        },
        "id": "RSNQj10p0vFg",
        "outputId": "14661b9c-14ca-4f0d-8665-5021497ce9fe"
      },
      "outputs": [
        {
          "data": {
            "image/png": "[encoded data removed]",
            "text/plain": [
              "<Figure size 640x480 with 1 Axes>"
            ]
          },
          "metadata": {},
          "output_type": "display_data"
        }
      ],
      "source": [
        "# Observar distribucón de clases en el conjunto de datos de entrenamiento\n",
        "plt.hist(y_train, bins=5, rwidth=0.7)\n",
        "plt.xticks(rotation='vertical')\n",
        "plt.show()"
      ]
    },
    {
      "cell_type": "code",
      "execution_count": 68,
      "metadata": {
        "colab": {
          "base_uri": "https://localhost:8080/",
          "height": 524
        },
        "id": "gIxSJvnm8iAK",
        "outputId": "f2301eab-4be5-4255-e462-99c265781d77"
      },
      "outputs": [
        {
          "data": {
            "image/png": "[encoded data removed]",
            "text/plain": [
              "<Figure size 640x480 with 1 Axes>"
            ]
          },
          "metadata": {},
          "output_type": "display_data"
        }
      ],
      "source": [
        "# Observar distribucón de clases en el conjunto de datos de prueba\n",
        "plt.hist(y_test, bins=5, rwidth=0.7)\n",
        "plt.xticks(rotation='vertical')\n",
        "plt.show()"
      ]
    },
    {
      "cell_type": "markdown",
      "metadata": {
        "id": "WLIWuRdy07ws"
      },
      "source": [
        "Como podemos observar el conjunto de datos esta bien balanceado, por lo que va a facilitar el desarrollo del modelo pues no se requieren tecnicas adicionales como sobremuestreo, submuestreo o aprendizaje sensitivo al costo."
      ]
    },
    {
      "cell_type": "markdown",
      "metadata": {
        "id": "huSUdTKk1nzw"
      },
      "source": [
        "Ahora procedemos a observar algunas imagenes del dataset aleatoriamente. Escogiendo dos imagenes de cada categoria para hacernos una mejor idea de la clasificacion existente."
      ]
    },
    {
      "cell_type": "code",
      "execution_count": 69,
      "metadata": {
        "colab": {
          "base_uri": "https://localhost:8080/",
          "height": 1000
        },
        "id": "Y26wIBX71fTi",
        "outputId": "a45d095b-b099-4580-bd2f-e42abedb415e"
      },
      "outputs": [
        {
          "data": {
            "image/png": "[encoded data removed]",
            "text/plain": [
              "<Figure size 800x2000 with 10 Axes>"
            ]
          },
          "metadata": {},
          "output_type": "display_data"
        }
      ],
      "source": [
        "# Observar las imágenes\n",
        "plt.figure(figsize=(8,20))\n",
        "\n",
        "classes = list(set(y_train))\n",
        "\n",
        "for j, cur_class in enumerate(classes):\n",
        "  # Obtener los indices de las imageness de la clase actual\n",
        "  indices = [i for i, x in enumerate(y_train) if x == cur_class]\n",
        "\n",
        "  # Seleccionar dos imagenes aleatorias de esta clase\n",
        "  random_indices = random.sample(indices, 2)\n",
        "\n",
        "  for i, index in enumerate(random_indices):\n",
        "    plt.subplot(len(classes), 2, j*2 + i + 1)\n",
        "    plt.imshow(x_train[index][:3])\n",
        "    plt.title(y_train[index])"
      ]
    },
    {
      "cell_type": "markdown",
      "metadata": {
        "id": "blj33Zfk82oV"
      },
      "source": [
        "## 1.2. Preparacion de los datos"
      ]
    },
    {
      "cell_type": "markdown",
      "metadata": {
        "id": "zQ21Ksb39HPY"
      },
      "source": [
        "##### 1.2.1. Estandarizacion a media 0 y desviación 1"
      ]
    },
    {
      "cell_type": "code",
      "execution_count": 70,
      "metadata": {
        "id": "W023omsG9pEj"
      },
      "outputs": [
        {
          "data": {
            "text/plain": [
              "array([[ 0.39370755,  0.6000537 ,  0.51436838],\n",
              "       [ 1.80143528,  2.09537131,  1.89328192],\n",
              "       [-0.74029533, -0.26262953, -0.46096071],\n",
              "       [-0.23194921, -0.34889786, -0.36006459],\n",
              "       [-1.01402017, -1.06780055, -1.16723349],\n",
              "       [ 1.58636576,  1.52024916,  2.19597025],\n",
              "       [-0.60343292, -0.34889786,  0.91795283],\n",
              "       [ 0.33505223,  0.77259035,  0.51436838],\n",
              "       [-0.36881163, -0.06133678, -0.42732867],\n",
              "       [ 1.05846787,  0.88761478,  1.35516932]])"
            ]
          },
          "execution_count": 70,
          "metadata": {},
          "output_type": "execute_result"
        }
      ],
      "source": [
        "# Aplanamos las imágenes a vectores 1D para facilitar el procesamiento de los datos.\n",
        "x_train_standard = x_train.reshape(x_train.shape[0], -1)\n",
        "x_test_standard = x_test.reshape(x_test.shape[0], -1)\n",
        "\n",
        "x_train_standard = StandardScaler().fit_transform(x_train_standard)\n",
        "x_test_standard = StandardScaler().fit_transform(x_test_standard) \n",
        "\n",
        "x_train_standard[:10, :3]"
      ]
    },
    {
      "cell_type": "markdown",
      "metadata": {
        "id": "57gFPIq3BBtN"
      },
      "source": [
        "Antes de aplicar cualquier algoritmo de aprendizaje, vamos a realizar ingeneria de caracteristicas para reducir la dimensionalidad de los datos y mejorar el rendimiento al entrenar el modelo.\n",
        "\n",
        "Para ello, usaremos una transformacion intermedia para encontrar las caracteristicas que mejor describan la varianza de los datos.\n"
      ]
    },
    {
      "cell_type": "markdown",
      "metadata": {
        "id": "6w3xy7KXBU4v"
      },
      "source": [
        "##### 1.2.2. Analisis de componentes principales"
      ]
    },
    {
      "cell_type": "code",
      "execution_count": 71,
      "metadata": {},
      "outputs": [
        {
          "data": {
            "text/plain": [
              "(12288,)"
            ]
          },
          "execution_count": 71,
          "metadata": {},
          "output_type": "execute_result"
        }
      ],
      "source": [
        "x_train_standard[0].shape"
      ]
    },
    {
      "cell_type": "code",
      "execution_count": 72,
      "metadata": {
        "colab": {
          "base_uri": "https://localhost:8080/"
        },
        "id": "so5mUsaPBeqi",
        "outputId": "d7037433-f864-4802-a908-9837b98754f6"
      },
      "outputs": [
        {
          "data": {
            "text/plain": [
              "(3000, 12288)"
            ]
          },
          "execution_count": 72,
          "metadata": {},
          "output_type": "execute_result"
        }
      ],
      "source": [
        "# Dimensionalidad de los datos sin PCA\n",
        "x_train_standard.shape"
      ]
    },
    {
      "cell_type": "code",
      "execution_count": 73,
      "metadata": {
        "id": "iyFwJDG8Bihe"
      },
      "outputs": [],
      "source": [
        "# Conservar el 95% de la varianza para buscar un buen modelo\n",
        "pca = PCA(0.90).fit(x_train_standard)"
      ]
    },
    {
      "cell_type": "code",
      "execution_count": 74,
      "metadata": {
        "id": "7fw8lAZ9CGmJ"
      },
      "outputs": [],
      "source": [
        "x_train_pca = pca.transform(x_train_standard)\n",
        "x_test_pca = pca.transform(x_test_standard)"
      ]
    },
    {
      "cell_type": "code",
      "execution_count": 75,
      "metadata": {
        "colab": {
          "base_uri": "https://localhost:8080/"
        },
        "id": "kX15f_CoCIvu",
        "outputId": "0ac73e5a-ab17-40d5-d862-cd680e60ca9e"
      },
      "outputs": [
        {
          "name": "stdout",
          "output_type": "stream",
          "text": [
            "El número de componente principales que conservan el 95% de la varianza es: 181\n"
          ]
        },
        {
          "data": {
            "text/plain": [
              "(3000, 181)"
            ]
          },
          "execution_count": 75,
          "metadata": {},
          "output_type": "execute_result"
        }
      ],
      "source": [
        "# Numero de componentes principales\n",
        "print(f\"El número de componente principales que conservan el 95% de la varianza es: {pca.n_components_}\")\n",
        "\n",
        "# Dimensionalidad de los datos con PCA\n",
        "x_train_pca.shape"
      ]
    },
    {
      "cell_type": "markdown",
      "metadata": {
        "id": "MHaPaM_DCPUA"
      },
      "source": [
        "Con este procedimiento reducimos la dimensionalidad de cada imagen a 181 caracteristicas."
      ]
    },
    {
      "cell_type": "markdown",
      "metadata": {
        "id": "lbfQXT0UCecG"
      },
      "source": [
        "# 2. Gradient Boosting"
      ]
    },
    {
      "cell_type": "markdown",
      "metadata": {
        "id": "VcM2Sv3ICr_D"
      },
      "source": [
        "El algoritmo de *Gradient Boosting* es un metodo de ensemble - un conjunto de modelos cuyas decisiones son combinadas para producir la clasificacion final de un dato.\n",
        "\n",
        "Hace uso de descenso por el gradiente para ajustar los errores residuales cometidos por los modelos anteriores."
      ]
    },
    {
      "cell_type": "markdown",
      "metadata": {
        "id": "MRCqloueEJ6f"
      },
      "source": [
        "##### 2.1. Crear clasificador"
      ]
    },
    {
      "cell_type": "markdown",
      "metadata": {
        "id": "SuLF4NVmF85E"
      },
      "source": [
        "Dado que este algoritmo es resistente a overfitting, incrementamos el numero de estimadores con el fin de obtener idealmente un mejor modelo. Tambien, hacemos una busqueda de hiperparametros de `min_samples_split` y `max_depth`. El primer parametro controla el minimo numero de muestras que se necesitan para dividir un nodo de los arboles de decision que utiliza este clasificador internamente. Y el segundo parametro controla la maxima profundidad de estos arboles."
      ]
    },
    {
      "cell_type": "code",
      "execution_count": 18,
      "metadata": {
        "id": "ciFeF0k3E41F"
      },
      "outputs": [],
      "source": [
        "min_samples_split = [2,3]\n",
        "max_depth = [3,5]\n",
        "\n",
        "# Grid search\n",
        "grid_search = GridSearchCV(GradientBoostingClassifier(n_estimators=110, random_state=0), \n",
        "                           param_grid={'min_samples_split': min_samples_split, 'max_depth': max_depth}, \n",
        "                           cv=3, n_jobs=-1)"
      ]
    },
    {
      "cell_type": "markdown",
      "metadata": {
        "id": "0ZMb8TwYGOBB"
      },
      "source": [
        "##### 2.2. Entrenar el clasificador con los datos de entrenamiento"
      ]
    },
    {
      "cell_type": "markdown",
      "metadata": {
        "id": "Ka9vwBkIGYPG"
      },
      "source": [
        "**fit**: Este método entrena el clasificador usando el conjunto de datos de entrenamiento proporcionado. x_train_pca contiene las características de los datos de entrenamiento, ya reducidas en dimensiones mediante PCA(Análisis de Componentes Principales)."
      ]
    },
    {
      "cell_type": "code",
      "execution_count": 19,
      "metadata": {
        "colab": {
          "base_uri": "https://localhost:8080/"
        },
        "id": "Y6XUwEpqGlwW",
        "outputId": "f70e2493-e057-4edf-ffa8-c2d13580aaf9"
      },
      "outputs": [
        {
          "name": "stdout",
          "output_type": "stream",
          "text": [
            "Tiempo de entrenamiento: 2.277980931599935 minutos\n"
          ]
        }
      ],
      "source": [
        "# Entrenar el clasificador con los datos de entrenamiento\n",
        "# Entrenamiento y creación del modelo\n",
        "start = time.time()\n",
        "grid_search.fit(x_train_pca, y_train)\n",
        "# Tiempo de entrenamiento\n",
        "end = time.time()\n",
        "print(f\"Tiempo de entrenamiento: {(end - start)/60} minutos\")\n",
        "\n",
        "# Mejor modelo\n",
        "best_model = grid_search.best_estimator_"
      ]
    },
    {
      "cell_type": "code",
      "execution_count": 20,
      "metadata": {
        "colab": {
          "base_uri": "https://localhost:8080/"
        },
        "id": "vTrfE_3wLotF",
        "outputId": "9ec89471-93de-460f-e5bd-06c5356d5624"
      },
      "outputs": [
        {
          "name": "stdout",
          "output_type": "stream",
          "text": [
            "Mejores parámetros: {'max_depth': 3, 'min_samples_split': 2}\n"
          ]
        }
      ],
      "source": [
        "# Mejores parámetros\n",
        "best_params = grid_search.best_params_\n",
        "print(f\"Mejores parámetros: {best_params}\")"
      ]
    },
    {
      "cell_type": "markdown",
      "metadata": {
        "id": "m4sDf9SWYi_J"
      },
      "source": [
        "Se obtuvo que los mejores parametros del modelo correspondian a los parametros por defecto."
      ]
    },
    {
      "cell_type": "markdown",
      "metadata": {
        "id": "muIhK5llJ2XO"
      },
      "source": [
        "##### 2.3. Predicciones en datos de entrenamiento"
      ]
    },
    {
      "cell_type": "code",
      "execution_count": 21,
      "metadata": {
        "id": "7PKD3REeMCyX"
      },
      "outputs": [],
      "source": [
        "# Realizar predicciones en los datos de entrenamiento\n",
        "y_train_pred = best_model.predict(x_train_pca)"
      ]
    },
    {
      "cell_type": "code",
      "execution_count": 22,
      "metadata": {
        "colab": {
          "base_uri": "https://localhost:8080/",
          "height": 761
        },
        "id": "_KDKvb-TMZbf",
        "outputId": "92ce9cf6-96c5-4cab-c2f2-605a9ff7ce3f"
      },
      "outputs": [
        {
          "name": "stdout",
          "output_type": "stream",
          "text": [
            "Precisión de Gradient Boosting: 0.9936666666666667\n",
            "\n",
            "Informe de clasificación de Gradient Boosting:\n",
            "               precision    recall  f1-score   support\n",
            "\n",
            "       Forest       1.00      1.00      1.00       610\n",
            "   Industrial       1.00      1.00      1.00       605\n",
            "PermanentCrop       1.00      0.97      0.99       603\n",
            "  Residential       0.98      1.00      0.99       601\n",
            "        River       0.99      1.00      0.99       581\n",
            "\n",
            "     accuracy                           0.99      3000\n",
            "    macro avg       0.99      0.99      0.99      3000\n",
            " weighted avg       0.99      0.99      0.99      3000\n",
            "\n",
            "\n",
            "Matriz de confusión de Gradient Boosting:\n"
          ]
        },
        {
          "data": {
            "image/png": "[encoded data removed]",
            "text/plain": [
              "<Figure size 640x480 with 2 Axes>"
            ]
          },
          "metadata": {},
          "output_type": "display_data"
        }
      ],
      "source": [
        "# Precisión\n",
        "print(\"Precisión de Gradient Boosting:\", accuracy_score(y_train, y_train_pred))\n",
        "\n",
        "# Informe de clasificación\n",
        "print(\"\\nInforme de clasificación de Gradient Boosting:\")\n",
        "print(classification_report(y_train, y_train_pred))\n",
        "\n",
        "# Matriz de confusión\n",
        "print(\"\\nMatriz de confusión de Gradient Boosting:\")\n",
        "cm_rf = confusion_matrix(y_train, y_train_pred)\n",
        "disp_rf = ConfusionMatrixDisplay(confusion_matrix=cm_rf)\n",
        "disp_rf.plot()\n",
        "plt.show()"
      ]
    },
    {
      "cell_type": "markdown",
      "metadata": {
        "id": "7dvBHo6QY1ng"
      },
      "source": [
        "El modelo tiene muy buenos resultados sobre el conjunto de entrenamiento lo que sugiere un bias muy bajo."
      ]
    },
    {
      "cell_type": "markdown",
      "metadata": {
        "id": "w6NxFVeLOoIQ"
      },
      "source": [
        "##### 3.4. Predicciones en datos de prueba"
      ]
    },
    {
      "cell_type": "code",
      "execution_count": 23,
      "metadata": {
        "id": "VKtbu3rQOnRh"
      },
      "outputs": [],
      "source": [
        "# Realizar predicciones en los datos de prueba\n",
        "y_test_pred = best_model.predict(x_test_pca)"
      ]
    },
    {
      "cell_type": "code",
      "execution_count": 24,
      "metadata": {
        "colab": {
          "base_uri": "https://localhost:8080/",
          "height": 761
        },
        "id": "WSKXbbj_Ox1_",
        "outputId": "27bdfab2-30f7-4e49-9423-ddf64584795b"
      },
      "outputs": [
        {
          "name": "stdout",
          "output_type": "stream",
          "text": [
            "Precisión de Gradient Boosting: 0.836\n",
            "\n",
            "Informe de clasificación de Gradient Boosting:\n",
            "               precision    recall  f1-score   support\n",
            "\n",
            "       Forest       0.95      0.99      0.97       140\n",
            "   Industrial       0.89      0.88      0.89       145\n",
            "PermanentCrop       0.71      0.73      0.72       147\n",
            "  Residential       0.75      0.74      0.75       149\n",
            "        River       0.88      0.85      0.86       169\n",
            "\n",
            "     accuracy                           0.84       750\n",
            "    macro avg       0.84      0.84      0.84       750\n",
            " weighted avg       0.84      0.84      0.84       750\n",
            "\n",
            "\n",
            "Matriz de confusión de Gradient Boosting:\n"
          ]
        },
        {
          "data": {
            "image/png": "[encoded data removed]",
            "text/plain": [
              "<Figure size 640x480 with 2 Axes>"
            ]
          },
          "metadata": {},
          "output_type": "display_data"
        }
      ],
      "source": [
        "# Precisión\n",
        "print(\"Precisión de Gradient Boosting:\", accuracy_score(y_test, y_test_pred))\n",
        "\n",
        "# Informe de clasificación\n",
        "print(\"\\nInforme de clasificación de Gradient Boosting:\")\n",
        "print(classification_report(y_test, y_test_pred))\n",
        "\n",
        "# Matriz de confusión\n",
        "print(\"\\nMatriz de confusión de Gradient Boosting:\")\n",
        "cm_rf = confusion_matrix(y_test, y_test_pred)\n",
        "disp_rf = ConfusionMatrixDisplay(confusion_matrix=cm_rf)\n",
        "disp_rf.plot()\n",
        "plt.show()"
      ]
    },
    {
      "cell_type": "markdown",
      "metadata": {
        "id": "CoLPKVUUZUpQ"
      },
      "source": [
        "El error en el conjunto de entrenamiento es mas significativo, por lo que podriamos estar frente a una situacion de alta varianza. Aunque predice con mucha precision imagenes de tipo bosque e industrial."
      ]
    },
    {
      "cell_type": "markdown",
      "metadata": {
        "id": "IXr1-_uFNLas"
      },
      "source": [
        "### 2.5. Análisis comparativo respecto al modelo presentado en la práctica (RandomForest)"
      ]
    },
    {
      "cell_type": "markdown",
      "metadata": {
        "id": "XmcGqb-YOeiK"
      },
      "source": [
        "##### 2.5.1. Crear clasificador"
      ]
    },
    {
      "cell_type": "markdown",
      "metadata": {
        "id": "t45nMNssNf_8"
      },
      "source": [
        "Con fines comparativos, entrenamos ahora un clasificador *Random Forest*. Es un metodo similar que utiliza varios arboles de decision y combina las respuestas de estos modelos en una sola."
      ]
    },
    {
      "cell_type": "markdown",
      "metadata": {
        "id": "VYwmZZPrOC4O"
      },
      "source": [
        "Usamos GridSearch para usar una busqueda de los hiperparametros que producen el mejor modelo."
      ]
    },
    {
      "cell_type": "code",
      "execution_count": 18,
      "metadata": {
        "id": "hA8PfV-zOKjX"
      },
      "outputs": [],
      "source": [
        "min_samples_split = [5, 7]\n",
        "max_depth = [10, 15]\n",
        "n_estimators = [500]\n",
        "\n",
        "\n",
        "# Grid search\n",
        "grid_search = GridSearchCV(RandomForestClassifier(criterion='entropy', random_state=0), param_grid={\n",
        "    'min_samples_split': min_samples_split, \n",
        "    'max_depth': max_depth,\n",
        "    'n_estimators': n_estimators\n",
        "    }, cv=3, n_jobs=-1)"
      ]
    },
    {
      "cell_type": "markdown",
      "metadata": {
        "id": "NS6QHikpPDVj"
      },
      "source": [
        "##### 2.5.2. Entrenar el clasificador con los datos de entrenamiento"
      ]
    },
    {
      "cell_type": "code",
      "execution_count": 19,
      "metadata": {
        "colab": {
          "base_uri": "https://localhost:8080/"
        },
        "id": "1uRATDR_PKV9",
        "outputId": "bc63d39a-8bc3-49c2-c850-5f92c119794e"
      },
      "outputs": [
        {
          "name": "stdout",
          "output_type": "stream",
          "text": [
            "Tiempo de entrenamiento: 0.5768119335174561 minutos\n"
          ]
        }
      ],
      "source": [
        "# Entrenar el clasificador con los datos de entrenamiento\n",
        "# Entrenamiento y creación del modelo\n",
        "start = time.time()\n",
        "grid_search.fit(x_train_pca, y_train)\n",
        "# Tiempo de entrenamiento\n",
        "end = time.time()\n",
        "print(f\"Tiempo de entrenamiento: {(end - start)/60} minutos\")\n",
        "\n",
        "# Mejor modelo\n",
        "rf_model = grid_search.best_estimator_"
      ]
    },
    {
      "cell_type": "code",
      "execution_count": 20,
      "metadata": {
        "colab": {
          "base_uri": "https://localhost:8080/"
        },
        "id": "XIlKbenkPQ_6",
        "outputId": "c16ece43-d1ea-40c4-a9a7-1ed880a1dd10"
      },
      "outputs": [
        {
          "name": "stdout",
          "output_type": "stream",
          "text": [
            "Mejores parámetros: {'max_depth': 15, 'min_samples_split': 5, 'n_estimators': 500}\n"
          ]
        }
      ],
      "source": [
        "# Mejores parámetros\n",
        "best_params = grid_search.best_params_\n",
        "print(f\"Mejores parámetros: {best_params}\")"
      ]
    },
    {
      "cell_type": "markdown",
      "metadata": {
        "id": "AaowZcWGPTcx"
      },
      "source": [
        "##### 2.5.3. Predicciones en datos de entrenamiento"
      ]
    },
    {
      "cell_type": "code",
      "execution_count": 21,
      "metadata": {
        "id": "YAwfIc0bPY4x"
      },
      "outputs": [],
      "source": [
        "# Realizar predicciones en los datos de entrenamiento\n",
        "y_train_pred = rf_model.predict(x_train_pca)"
      ]
    },
    {
      "cell_type": "code",
      "execution_count": 22,
      "metadata": {
        "colab": {
          "base_uri": "https://localhost:8080/",
          "height": 761
        },
        "id": "yp6G2DK-PjOy",
        "outputId": "33474554-5ff1-4ce3-c87c-d41e278b7465"
      },
      "outputs": [
        {
          "name": "stdout",
          "output_type": "stream",
          "text": [
            "Precisión de Random Forest: 1.0\n",
            "\n",
            "Informe de clasificación de Random Forest:\n",
            "               precision    recall  f1-score   support\n",
            "\n",
            "       Forest       1.00      1.00      1.00       610\n",
            "   Industrial       1.00      1.00      1.00       605\n",
            "PermanentCrop       1.00      1.00      1.00       603\n",
            "  Residential       1.00      1.00      1.00       601\n",
            "        River       1.00      1.00      1.00       581\n",
            "\n",
            "     accuracy                           1.00      3000\n",
            "    macro avg       1.00      1.00      1.00      3000\n",
            " weighted avg       1.00      1.00      1.00      3000\n",
            "\n",
            "\n",
            "Matriz de confusión de Random Forest:\n"
          ]
        },
        {
          "data": {
            "image/png": "[encoded data removed]",
            "text/plain": [
              "<Figure size 640x480 with 2 Axes>"
            ]
          },
          "metadata": {},
          "output_type": "display_data"
        }
      ],
      "source": [
        "# Precisión\n",
        "print(\"Precisión de Random Forest:\", accuracy_score(y_train, y_train_pred))\n",
        "\n",
        "# Informe de clasificación\n",
        "print(\"\\nInforme de clasificación de Random Forest:\")\n",
        "print(classification_report(y_train, y_train_pred))\n",
        "\n",
        "# Matriz de confusión\n",
        "print(\"\\nMatriz de confusión de Random Forest:\")\n",
        "cm_rf = confusion_matrix(y_train, y_train_pred)\n",
        "disp_rf = ConfusionMatrixDisplay(confusion_matrix=cm_rf)\n",
        "disp_rf.plot()\n",
        "plt.show()"
      ]
    },
    {
      "cell_type": "markdown",
      "metadata": {
        "id": "4-l-TWy6agIo"
      },
      "source": [
        "En este caso, el rendimiento con el conjunto de entrenamiento es equivalente al algoritmo de *Gradient Boosting Classifier*."
      ]
    },
    {
      "cell_type": "markdown",
      "metadata": {
        "id": "tmKUcsU1PpFp"
      },
      "source": [
        "##### 2.5.4. Predicciones en datos de prueba"
      ]
    },
    {
      "cell_type": "code",
      "execution_count": 23,
      "metadata": {
        "id": "VVbNcJQdPw4k"
      },
      "outputs": [],
      "source": [
        "# Realizar predicciones en los datos de prueba\n",
        "y_test_pred = rf_model.predict(x_test_pca)"
      ]
    },
    {
      "cell_type": "code",
      "execution_count": 24,
      "metadata": {
        "colab": {
          "base_uri": "https://localhost:8080/",
          "height": 767
        },
        "id": "LRwLkNhiP0Ng",
        "outputId": "c010e5db-a78f-4b3c-b58d-25915349a120"
      },
      "outputs": [
        {
          "name": "stdout",
          "output_type": "stream",
          "text": [
            "Precisión de Random Forest: 0.8226666666666667\n",
            "\n",
            "Informe de clasificación de Random Forest:\n",
            "               precision    recall  f1-score   support\n",
            "\n",
            "       Forest       0.98      0.96      0.97       140\n",
            "   Industrial       0.88      0.90      0.89       145\n",
            "PermanentCrop       0.71      0.70      0.70       147\n",
            "  Residential       0.77      0.76      0.76       149\n",
            "        River       0.79      0.80      0.80       169\n",
            "\n",
            "     accuracy                           0.82       750\n",
            "    macro avg       0.83      0.83      0.83       750\n",
            " weighted avg       0.82      0.82      0.82       750\n",
            "\n",
            "\n",
            "Matriz de confusión de Random Forest:\n"
          ]
        },
        {
          "data": {
            "image/png": "[encoded data removed]",
            "text/plain": [
              "<Figure size 640x480 with 2 Axes>"
            ]
          },
          "metadata": {},
          "output_type": "display_data"
        }
      ],
      "source": [
        "# Precisión\n",
        "print(\"Precisión de Random Forest:\", accuracy_score(y_test, y_test_pred))\n",
        "\n",
        "# Informe de clasificación\n",
        "print(\"\\nInforme de clasificación de Random Forest:\")\n",
        "print(classification_report(y_test, y_test_pred))\n",
        "\n",
        "# Matriz de confusión\n",
        "print(\"\\nMatriz de confusión de Random Forest:\")\n",
        "cm_rf = confusion_matrix(y_test, y_test_pred)\n",
        "disp_rf = ConfusionMatrixDisplay(confusion_matrix=cm_rf)\n",
        "disp_rf.plot()\n",
        "plt.show()"
      ]
    },
    {
      "cell_type": "markdown",
      "metadata": {
        "id": "-5Gg_9jnbBbE"
      },
      "source": [
        "*Gradient Boosting Classifier* muestra un desempeño global ligeramente superior al de *Random Forest*. Sin embargo, su entrenamiento es considerablemente más lento.\n",
        "\n",
        "La implementación mostrada en el laboratorio de *Random Forest*, el desempeño es apenas inferior a la mostrada aquí. La optimización de los hiperparámetros nos ayudó a reducir la brecha en el desempeño respecto al *Gradient Boosting Classifier*, pero invirtiendo mucho menos tiempo en el entrenamiento."
      ]
    },
    {
      "cell_type": "markdown",
      "metadata": {},
      "source": [
        "# 3. Otro modelo de ensamble (Histogram-based Gradient Boosting Classification Tree)"
      ]
    },
    {
      "cell_type": "markdown",
      "metadata": {},
      "source": [
        "Es una implementación más eficiente de Gradient Boosting que utiliza histogramas para optimizar los cálculos, lo que lo hace más rápido y adecuado para conjuntos de datos grandes."
      ]
    },
    {
      "cell_type": "markdown",
      "metadata": {},
      "source": [
        "##### 3.1. Crear clasificador"
      ]
    },
    {
      "cell_type": "code",
      "execution_count": 76,
      "metadata": {},
      "outputs": [],
      "source": [
        "max_iter = [100, 300, 500]\n",
        "max_depth = [15, 30]\n",
        "\n",
        "# Grid search\n",
        "grid_search = GridSearchCV(HistGradientBoostingClassifier(random_state=0, min_samples_leaf=50), \n",
        "                           param_grid={'max_iter': max_iter, 'max_depth': max_depth,\n",
        "                                       }, \n",
        "                           cv=3, n_jobs=-1)"
      ]
    },
    {
      "cell_type": "markdown",
      "metadata": {},
      "source": [
        "##### 3.2. Entrenar el clasificador con los datos de entrenamiento"
      ]
    },
    {
      "cell_type": "code",
      "execution_count": 77,
      "metadata": {},
      "outputs": [
        {
          "name": "stdout",
          "output_type": "stream",
          "text": [
            "Tiempo de entrenamiento: 0.19975556135177613 minutos\n"
          ]
        }
      ],
      "source": [
        "# Entrenar el clasificador con los datos de entrenamiento\n",
        "# Entrenamiento y creación del modelo\n",
        "start = time.time()\n",
        "grid_search.fit(x_train_pca, y_train)\n",
        "# Tiempo de entrenamiento\n",
        "end = time.time()\n",
        "print(f\"Tiempo de entrenamiento: {(end - start)/60} minutos\")\n",
        "\n",
        "# Mejor modelo\n",
        "hgbc_model = grid_search.best_estimator_"
      ]
    },
    {
      "cell_type": "code",
      "execution_count": 78,
      "metadata": {},
      "outputs": [
        {
          "name": "stdout",
          "output_type": "stream",
          "text": [
            "Mejores parámetros: {'max_depth': 15, 'max_iter': 500, 'min_samples_leaf': 50}\n"
          ]
        }
      ],
      "source": [
        "# Mejores parámetros\n",
        "best_params = grid_search.best_params_\n",
        "print(f\"Mejores parámetros: {best_params}\")"
      ]
    },
    {
      "cell_type": "markdown",
      "metadata": {},
      "source": [
        "##### 3.3. Predicciones en datos de entrenamiento"
      ]
    },
    {
      "cell_type": "code",
      "execution_count": 79,
      "metadata": {},
      "outputs": [],
      "source": [
        "# Realizar predicciones en los datos de entrenamiento\n",
        "y_train_pred = hgbc_model.predict(x_train_pca)"
      ]
    },
    {
      "cell_type": "code",
      "execution_count": 80,
      "metadata": {},
      "outputs": [
        {
          "name": "stdout",
          "output_type": "stream",
          "text": [
            "Histogram-based Gradient Boosting Classification Tree: 1.0\n",
            "\n",
            "Informe de clasificación de Histogram-based Gradient Boosting Classification Tree::\n",
            "               precision    recall  f1-score   support\n",
            "\n",
            "       Forest       1.00      1.00      1.00       610\n",
            "   Industrial       1.00      1.00      1.00       605\n",
            "PermanentCrop       1.00      1.00      1.00       603\n",
            "  Residential       1.00      1.00      1.00       601\n",
            "        River       1.00      1.00      1.00       581\n",
            "\n",
            "     accuracy                           1.00      3000\n",
            "    macro avg       1.00      1.00      1.00      3000\n",
            " weighted avg       1.00      1.00      1.00      3000\n",
            "\n",
            "\n",
            "Matriz de confusión de Histogram-based Gradient Boosting Classification Tree:\n"
          ]
        },
        {
          "data": {
            "image/png": "[encoded data removed]",
            "text/plain": [
              "<Figure size 640x480 with 2 Axes>"
            ]
          },
          "metadata": {},
          "output_type": "display_data"
        }
      ],
      "source": [
        "# Precisión\n",
        "print(\"Histogram-based Gradient Boosting Classification Tree:\", accuracy_score(y_train, y_train_pred))\n",
        "\n",
        "# Informe de clasificación\n",
        "print(\"\\nInforme de clasificación de Histogram-based Gradient Boosting Classification Tree::\")\n",
        "print(classification_report(y_train, y_train_pred))\n",
        "\n",
        "# Matriz de confusión\n",
        "print(\"\\nMatriz de confusión de Histogram-based Gradient Boosting Classification Tree:\")\n",
        "cm_rf = confusion_matrix(y_train, y_train_pred)\n",
        "disp_rf = ConfusionMatrixDisplay(confusion_matrix=cm_rf)\n",
        "disp_rf.plot()\n",
        "plt.show()"
      ]
    },
    {
      "cell_type": "markdown",
      "metadata": {},
      "source": [
        "El rendimiento sobre el conjunto de prueba es equivalente a las dos propuestas anteriores"
      ]
    },
    {
      "cell_type": "markdown",
      "metadata": {},
      "source": [
        "##### 3.4. Predicciones en datos de prueba"
      ]
    },
    {
      "cell_type": "code",
      "execution_count": 81,
      "metadata": {},
      "outputs": [],
      "source": [
        "# Realizar predicciones en los datos de prueba\n",
        "y_test_pred = hgbc_model.predict(x_test_pca)"
      ]
    },
    {
      "cell_type": "code",
      "execution_count": 82,
      "metadata": {},
      "outputs": [
        {
          "name": "stdout",
          "output_type": "stream",
          "text": [
            "Histogram-based Gradient Boosting Classification Tree: 0.8533333333333334\n",
            "\n",
            "Informe de clasificación de Histogram-based Gradient Boosting Classification Tree:\n",
            "               precision    recall  f1-score   support\n",
            "\n",
            "       Forest       0.96      0.98      0.97       140\n",
            "   Industrial       0.90      0.88      0.89       145\n",
            "PermanentCrop       0.76      0.76      0.76       147\n",
            "  Residential       0.78      0.77      0.77       149\n",
            "        River       0.87      0.88      0.87       169\n",
            "\n",
            "     accuracy                           0.85       750\n",
            "    macro avg       0.85      0.85      0.85       750\n",
            " weighted avg       0.85      0.85      0.85       750\n",
            "\n",
            "\n",
            "Matriz de confusión de Histogram-based Gradient Boosting Classification Tree:\n"
          ]
        },
        {
          "data": {
            "image/png": "[encoded data removed]",
            "text/plain": [
              "<Figure size 640x480 with 2 Axes>"
            ]
          },
          "metadata": {},
          "output_type": "display_data"
        }
      ],
      "source": [
        "# Precisión\n",
        "print(\"Histogram-based Gradient Boosting Classification Tree:\", accuracy_score(y_test, y_test_pred))\n",
        "\n",
        "# Informe de clasificación\n",
        "print(\"\\nInforme de clasificación de Histogram-based Gradient Boosting Classification Tree:\")\n",
        "print(classification_report(y_test, y_test_pred))\n",
        "\n",
        "# Matriz de confusión\n",
        "print(\"\\nMatriz de confusión de Histogram-based Gradient Boosting Classification Tree:\")\n",
        "cm_rf = confusion_matrix(y_test, y_test_pred)\n",
        "disp_rf = ConfusionMatrixDisplay(confusion_matrix=cm_rf)\n",
        "disp_rf.plot()\n",
        "plt.show()\n"
      ]
    },
    {
      "cell_type": "markdown",
      "metadata": {},
      "source": [
        "Histogram-based Gradient Boosting Classification Tree alcanzó el mayo rendimiento entre los tres modelos y tomando menos tiempo en su entrenamiento"
      ]
    },
    {
      "cell_type": "markdown",
      "metadata": {},
      "source": [
        "## 3.5 Conclusiones: comparación entre modelos "
      ]
    },
    {
      "cell_type": "markdown",
      "metadata": {},
      "source": [
        "holaaa"
      ]
    },
    {
      "cell_type": "markdown",
      "metadata": {},
      "source": []
    }
  ],
  "metadata": {
    "colab": {
      "provenance": []
    },
    "kernelspec": {
      "display_name": "Python 3",
      "name": "python3"
    },
    "language_info": {
      "codemirror_mode": {
        "name": "ipython",
        "version": 3
      },
      "file_extension": ".py",
      "mimetype": "text/x-python",
      "name": "python",
      "nbconvert_exporter": "python",
      "pygments_lexer": "ipython3",
      "version": "3.10.12"
    }
  },
  "nbformat": 4,
  "nbformat_minor": 0
}
