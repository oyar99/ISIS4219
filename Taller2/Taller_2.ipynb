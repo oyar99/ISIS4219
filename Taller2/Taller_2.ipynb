{
  "cells": [
    {
      "cell_type": "markdown",
      "metadata": {
        "id": "SU_lch1DySrJ"
      },
      "source": [
        "<img src=\"https://raw.githubusercontent.com/hectormelo/Machine-Learning-Techniques/main/Banner.png\" ><br>\n",
        "# Machine Learning Techniques - MISIS4219\n",
        "\n",
        "Primer semestre - 2024\n"
      ]
    },
    {
      "cell_type": "markdown",
      "metadata": {},
      "source": [
        "## Integrantes\n",
        "\n",
        "*   Carlos Raúl de la Rosa Peredo\n",
        "*   Jhon Stewar Rayo Mosquera"
      ]
    },
    {
      "cell_type": "markdown",
      "metadata": {
        "id": "5UbZ1aWajfMi"
      },
      "source": [
        "\n",
        "# **Taller 2**\n",
        "\n",
        "GeoAlpes, una empresa líder en análisis geoespacial, está buscando mejorar sus técnicas de clasificación automática de imágenes satelitales. El objetivo es poder categorizar distintas características geográficas (como bosques, zonas industriales, zonas de cultivos permanentes, zonas residenciales y rios) con alta precisión y rapidez. Para lograrlo, están interesados en explorar las capacidades de los métodos ensemble.\n",
        "\n",
        "1.  Exploración y Preparación de Datos\n",
        "\n",
        "    -   Discuta las particularidades de las imágenes satelitales y sugiera técnicas extra de preprocesamiento de ser necesario.\n",
        "\n",
        "2.  Implementación de Gradient Boosting\n",
        "\n",
        "    -   Utilice Gradient Boosting como modelo base. Discuta las ventajas y desafíos de este método, y cómo afecta la precisión y robustez del clasificador. Además, compare el desempeño de Gradient Boosting con el modelo Random Forest presentado en la práctica, ¿logra observar mejoras significativas?\n",
        "\n",
        "3. Implementación de un nuevo metodo Ensemble\n",
        "    - Elija y presente un método ensemble de su preferencia.Introduzca y discuta el concepto del método elegido y cómo podría ser benéfico para la clasificación de imágenes satelitales.\n",
        "    - Compare el desempeño de su método elegido con Gradient Boosting y el modelo Random Forest. Discuta las ventajas y desventajas de cada uno.\n",
        "\n",
        "4.  Optimización y Ajuste\n",
        "\n",
        "    -   Realice una búsqueda de los mejores hiperparámetros para mejorar el desempeño de cada uno de los modelos implementados (Grid Search).\n",
        "\n",
        "Datos: [Enlace al sub conjunto del dataset de imágenes satelitales EuroSAT](https://github.com/hectormelo/Machine-Learning-Techniques/raw/main/Lab_2/EuroSAT3.zip)\n"
      ]
    },
    {
      "cell_type": "markdown",
      "metadata": {},
      "source": [
        "## 0. Importar librerias y datos"
      ]
    },
    {
      "cell_type": "code",
      "execution_count": 1,
      "metadata": {},
      "outputs": [],
      "source": [
        "from requests import get as get_request\n",
        "from zipfile import ZipFile\n",
        "from io import BytesIO\n",
        "\n",
        "import cv2"
      ]
    },
    {
      "cell_type": "code",
      "execution_count": 4,
      "metadata": {},
      "outputs": [
        {
          "name": "stdout",
          "output_type": "stream",
          "text": [
            "Archivo descomprimido.\n"
          ]
        }
      ],
      "source": [
        "# URL del archivo ZIP en el repositorio de GitHub\n",
        "url = 'https://github.com/hectormelo/Machine-Learning-Techniques/raw/main/Lab_2/EuroSAT3.zip'\n",
        "\n",
        "# Descargar el archivo ZIP\n",
        "response = get_request(url)\n",
        "zip_content = response.content\n",
        "# Descomprimir el contenido en memoria\n",
        "with ZipFile(BytesIO(zip_content)) as zip_file:\n",
        "    zip_file.extractall(\"./EuroSAT\")  # Especifica el directorio donde quieres descomprimir"
      ]
    },
    {
      "cell_type": "code",
      "execution_count": null,
      "metadata": {},
      "outputs": [],
      "source": []
    }
  ],
  "metadata": {
    "colab": {
      "include_colab_link": true,
      "provenance": []
    },
    "kernelspec": {
      "display_name": "Python 3",
      "name": "python3"
    },
    "language_info": {
      "codemirror_mode": {
        "name": "ipython",
        "version": 3
      },
      "file_extension": ".py",
      "mimetype": "text/x-python",
      "name": "python",
      "nbconvert_exporter": "python",
      "pygments_lexer": "ipython3",
      "version": "3.10.12"
    }
  },
  "nbformat": 4,
  "nbformat_minor": 0
}
