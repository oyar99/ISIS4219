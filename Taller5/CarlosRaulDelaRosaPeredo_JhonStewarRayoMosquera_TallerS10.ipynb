version https://git-lfs.github.com/spec/v1
oid sha256:0ba81797cc19724508f3e579f1da5e2fcd023b396d7eb59cf9237d42d466fb9c
size 2138039
