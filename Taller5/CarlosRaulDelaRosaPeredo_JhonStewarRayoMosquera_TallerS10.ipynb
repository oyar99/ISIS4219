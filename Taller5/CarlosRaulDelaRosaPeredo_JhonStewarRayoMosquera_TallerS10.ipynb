version https://git-lfs.github.com/spec/v1
oid sha256:5fc0c56ef44ba7b21dbf6ab93292f93de1ba26f206127de9bd7e3df801f697c8
size 2138038
