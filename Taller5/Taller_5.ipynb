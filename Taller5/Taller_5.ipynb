{
  "cells": [
    {
      "cell_type": "markdown",
      "metadata": {
        "id": "view-in-github",
        "colab_type": "text"
      },
      "source": [
        "<a href=\"https://colab.research.google.com/github/hectormelo/Machine-Learning-Techniques/blob/main/Taller_5/Taller_5.ipynb\" target=\"_parent\"><img src=\"https://colab.research.google.com/assets/colab-badge.svg\" alt=\"Open In Colab\"/></a>"
      ]
    },
    {
      "cell_type": "markdown",
      "source": [
        "\n",
        "<img src=\"https://raw.githubusercontent.com/hectormelo/Machine-Learning-Techniques/main/Banner.png\" ><br>\n",
        "# Machine Learning Techniques - MISIS4219\n",
        "\n",
        "Primer semestre - 2024"
      ],
      "metadata": {
        "id": "6NWqu9PE81jN"
      }
    },
    {
      "cell_type": "markdown",
      "metadata": {
        "id": "b6E0BWNHXtTf"
      },
      "source": [
        "## Taller 5\n",
        "\n",
        "Este taller consta de un punto, el cual se desarrollara implementando todo lo que hemos visto en esta y las anteriores clases.\n",
        "\n",
        "**Integrante 1:**\n",
        "\n",
        "**Integrante 2:**\n",
        "\n",
        "**NOTA:** El archivo .pynb entregado debe tener todas las celdas ejecutadas, con los resultados visibles. El nombre del archivo debe ser NombreApellido1_NombreApellido2_TallerS10.ipynb\n",
        "\n",
        "**Dataset** : Enlace para descargar el dataset: https://drive.google.com/file/d/1C4zZPQcRY52UzgM8z-gzm4dVtSpSaDmw/view?usp=sharing\n",
        "\n",
        "**Objetivo**: Contruir modelos de deep learning que ayude a clasificar una imagen en alguna de esas 8 clases del dataset (cada folder en el dataset es una categoría). Va a comparar el performance entre una arquitectura densa y Convnets.\n"
      ]
    },
    {
      "cell_type": "markdown",
      "metadata": {
        "id": "FjUFjns3XtTg"
      },
      "source": [
        "## Punto 1: Clasificación de imágenes con arquitectura densa\n",
        "\n",
        "Requerimientos básicos:\n",
        "- Divida el dataset en particiones de entrenamiento, validación y testing.\n",
        "- Proponga una arquitectura de red neuronal densa con al menos 3 capas.\n",
        "- Entrene el modelo y genere las curvas de loss vs epoch para los sets de entrenamiento y validación.\n",
        "- Hacer deploy del modelo (realizar prediccion sobre una imagen dada fuera del dataset).\n",
        "- Evalue el modelo sobre testing y obtenga el reporte de precision, recall  f1-score. Puede utilizar el macro o micro average."
      ]
    },
    {
      "cell_type": "markdown",
      "source": [
        "## Punto 2: Clasificación de imágenes con ConvNets\n",
        "\n",
        "Requerimientos básicos:\n",
        "- Contruir una red convolucional de al menos 3 capas convolucionales. Utilice las mismas particiones del punto 1.\n",
        "- Guardar el modelo proveniente de la red convolucional.\n",
        "- Hacer deploy del modelo (realizar prediccion sobre una imagen dada).\n",
        "- De ser necesario realizar estrategias de aumentación de datos"
      ],
      "metadata": {
        "id": "a13bi80lYZzl"
      }
    },
    {
      "cell_type": "markdown",
      "source": [
        "## Punto 3: Comparación\n",
        "\n",
        "Compare los modelos, cual se comporto mejor?, por qué?"
      ],
      "metadata": {
        "id": "Xf01Ct96YzNU"
      }
    }
  ],
  "metadata": {
    "kernelspec": {
      "display_name": "Python 3.10.7 64-bit",
      "language": "python",
      "name": "python3"
    },
    "language_info": {
      "name": "python",
      "version": "3.10.7"
    },
    "orig_nbformat": 4,
    "vscode": {
      "interpreter": {
        "hash": "292c4ded81d87bd90756358ccfe1600b77d9f0d94385a24725f4c4113e90982b"
      }
    },
    "colab": {
      "provenance": [],
      "include_colab_link": true
    }
  },
  "nbformat": 4,
  "nbformat_minor": 0
}