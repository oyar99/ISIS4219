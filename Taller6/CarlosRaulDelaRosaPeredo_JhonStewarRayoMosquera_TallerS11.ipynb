version https://git-lfs.github.com/spec/v1
oid sha256:e46dba95daa7628278733da1305fca71607b0d3e4bb0805b8207ac1eb65756c2
size 470164
