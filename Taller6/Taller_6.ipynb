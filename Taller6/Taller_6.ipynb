{
  "nbformat": 4,
  "nbformat_minor": 0,
  "metadata": {
    "colab": {
      "provenance": [],
      "include_colab_link": true
    },
    "kernelspec": {
      "name": "python3",
      "display_name": "Python 3"
    },
    "language_info": {
      "name": "python"
    }
  },
  "cells": [
    {
      "cell_type": "markdown",
      "metadata": {
        "id": "view-in-github",
        "colab_type": "text"
      },
      "source": [
        "<a href=\"https://colab.research.google.com/github/hectormelo/Machine-Learning-Techniques/blob/main/Taller_6/Taller_6.ipynb\" target=\"_parent\"><img src=\"https://colab.research.google.com/assets/colab-badge.svg\" alt=\"Open In Colab\"/></a>"
      ]
    },
    {
      "cell_type": "markdown",
      "source": [
        "<img src=\"https://raw.githubusercontent.com/hectormelo/Machine-Learning-Techniques/main/Banner.png\" ><br>\n",
        "# Machine Learning Techniques - MISIS4219\n",
        "Primer semestre - 2024\n",
        "\n",
        "\n",
        "## Taller 6\n",
        "\n",
        "Este taller consta de un punto, el cual se desarrollara implementando todo lo que hemos visto en esta y las anteriores clases.\n",
        "\n",
        "**Integrante 1:**\n",
        "\n",
        "**Integrante 2:**\n",
        "\n",
        "**NOTA:**  El archivo .pynb entregado debe tener todas las celdas ejecutadas, con los resultados visibles. El nombre del archivo debe ser NombreCompleto_Taller6.ipynb"
      ],
      "metadata": {
        "id": "YozZmnOlQXQB"
      }
    },
    {
      "cell_type": "code",
      "source": [
        "!pip install -q yfinance"
      ],
      "metadata": {
        "id": "LkWOCPGIQWY5"
      },
      "execution_count": null,
      "outputs": []
    },
    {
      "cell_type": "markdown",
      "source": [
        "## Objetivo: Predecir los próximos valores de cierre de stocks de compañías, dado el registro histórico de estas"
      ],
      "metadata": {
        "id": "9DyVmf4pSaQI"
      }
    },
    {
      "cell_type": "code",
      "execution_count": null,
      "metadata": {
        "id": "DmDue2XYOuP0"
      },
      "outputs": [],
      "source": [
        "import pandas as pd\n",
        "import numpy as np\n",
        "\n",
        "import matplotlib.pyplot as plt\n",
        "import seaborn as sns\n",
        "\n",
        "# Para leer los datos de Yahoo\n",
        "from pandas_datareader.data import DataReader\n",
        "import yfinance as yf\n",
        "\n",
        "# para settear tiempos\n",
        "from datetime import datetime"
      ]
    },
    {
      "cell_type": "markdown",
      "source": [
        "## Dataset: Para este problema usaremos la librería yfinance, la cual retorna los valores de stock para diferentes empresas, en este caso tenemos los valores de APPLE - AAPL, GOOGLE - GOOG, Microsoft _ MSFT, Amazon - AMZN\n",
        "\n",
        "Como ejemplo solamente usamos los registros de 1 año, para el taller cambiar el codigo para ver los registros de los ultimos **3 años**"
      ],
      "metadata": {
        "id": "RNHIa138_0FC"
      }
    },
    {
      "cell_type": "code",
      "source": [
        "tech_list = ['AAPL', 'GOOG', 'MSFT', 'AMZN']\n",
        "\n",
        "#Asignamos el rango de fechas en las que queremos consultar los datos\n",
        "end = datetime.now() #fecha actual\n",
        "start = datetime(end.year - 3, end.month, end.day) #Fecha de hace un año\n",
        "\n",
        "for stock in tech_list:\n",
        "    globals()[stock] = yf.download(stock, start, end)"
      ],
      "metadata": {
        "colab": {
          "base_uri": "https://localhost:8080/"
        },
        "id": "XslhorV_RRxp",
        "outputId": "fbdb1381-88d9-4924-afa5-29ae3134d53e"
      },
      "execution_count": null,
      "outputs": [
        {
          "output_type": "stream",
          "name": "stderr",
          "text": [
            "[*********************100%%**********************]  1 of 1 completed\n",
            "[*********************100%%**********************]  1 of 1 completed\n",
            "[*********************100%%**********************]  1 of 1 completed\n",
            "[*********************100%%**********************]  1 of 1 completed\n"
          ]
        }
      ]
    },
    {
      "cell_type": "code",
      "source": [
        "company_list = [AAPL, GOOG, MSFT, AMZN]\n",
        "company_name = [\"APPLE\", \"GOOGLE\", \"MICROSOFT\", \"AMAZON\"]\n",
        "\n",
        "for company, com_name in zip(company_list, company_name):\n",
        "    company[\"company_name\"] = com_name\n",
        "\n",
        "df = pd.concat(company_list, axis=0)\n",
        "df.tail(10)"
      ],
      "metadata": {
        "colab": {
          "base_uri": "https://localhost:8080/",
          "height": 394
        },
        "id": "z5iB47NnRcN-",
        "outputId": "d9dd29e2-3c89-498c-9bab-fed1ea6465c9"
      },
      "execution_count": null,
      "outputs": [
        {
          "output_type": "execute_result",
          "data": {
            "text/plain": [
              "                  Open        High         Low       Close   Adj Close  \\\n",
              "Date                                                                     \n",
              "2024-04-02  179.070007  180.789993  178.380005  180.690002  180.690002   \n",
              "2024-04-03  179.899994  182.869995  179.800003  182.410004  182.410004   \n",
              "2024-04-04  184.000000  185.100006  180.000000  180.000000  180.000000   \n",
              "2024-04-05  182.380005  186.270004  181.970001  185.070007  185.070007   \n",
              "2024-04-08  186.899994  187.289993  184.809998  185.190002  185.190002   \n",
              "2024-04-09  187.240005  187.339996  184.199997  185.669998  185.669998   \n",
              "2024-04-10  182.770004  186.270004  182.669998  185.949997  185.949997   \n",
              "2024-04-11  186.740005  189.770004  185.509995  189.050003  189.050003   \n",
              "2024-04-12  187.720001  188.380005  185.080002  186.130005  186.130005   \n",
              "2024-04-15  187.425003  188.690002  183.070007  183.619995  183.619995   \n",
              "\n",
              "              Volume company_name  \n",
              "Date                               \n",
              "2024-04-02  32611500       AMAZON  \n",
              "2024-04-03  31046600       AMAZON  \n",
              "2024-04-04  41624300       AMAZON  \n",
              "2024-04-05  42335200       AMAZON  \n",
              "2024-04-08  39221300       AMAZON  \n",
              "2024-04-09  36546900       AMAZON  \n",
              "2024-04-10  35879200       AMAZON  \n",
              "2024-04-11  40020700       AMAZON  \n",
              "2024-04-12  38554300       AMAZON  \n",
              "2024-04-15  47933970       AMAZON  "
            ],
            "text/html": [
              "\n",
              "  <div id=\"df-c41c6bf5-1d88-47ee-ae5d-ad74bd3be305\" class=\"colab-df-container\">\n",
              "    <div>\n",
              "<style scoped>\n",
              "    .dataframe tbody tr th:only-of-type {\n",
              "        vertical-align: middle;\n",
              "    }\n",
              "\n",
              "    .dataframe tbody tr th {\n",
              "        vertical-align: top;\n",
              "    }\n",
              "\n",
              "    .dataframe thead th {\n",
              "        text-align: right;\n",
              "    }\n",
              "</style>\n",
              "<table border=\"1\" class=\"dataframe\">\n",
              "  <thead>\n",
              "    <tr style=\"text-align: right;\">\n",
              "      <th></th>\n",
              "      <th>Open</th>\n",
              "      <th>High</th>\n",
              "      <th>Low</th>\n",
              "      <th>Close</th>\n",
              "      <th>Adj Close</th>\n",
              "      <th>Volume</th>\n",
              "      <th>company_name</th>\n",
              "    </tr>\n",
              "    <tr>\n",
              "      <th>Date</th>\n",
              "      <th></th>\n",
              "      <th></th>\n",
              "      <th></th>\n",
              "      <th></th>\n",
              "      <th></th>\n",
              "      <th></th>\n",
              "      <th></th>\n",
              "    </tr>\n",
              "  </thead>\n",
              "  <tbody>\n",
              "    <tr>\n",
              "      <th>2024-04-02</th>\n",
              "      <td>179.070007</td>\n",
              "      <td>180.789993</td>\n",
              "      <td>178.380005</td>\n",
              "      <td>180.690002</td>\n",
              "      <td>180.690002</td>\n",
              "      <td>32611500</td>\n",
              "      <td>AMAZON</td>\n",
              "    </tr>\n",
              "    <tr>\n",
              "      <th>2024-04-03</th>\n",
              "      <td>179.899994</td>\n",
              "      <td>182.869995</td>\n",
              "      <td>179.800003</td>\n",
              "      <td>182.410004</td>\n",
              "      <td>182.410004</td>\n",
              "      <td>31046600</td>\n",
              "      <td>AMAZON</td>\n",
              "    </tr>\n",
              "    <tr>\n",
              "      <th>2024-04-04</th>\n",
              "      <td>184.000000</td>\n",
              "      <td>185.100006</td>\n",
              "      <td>180.000000</td>\n",
              "      <td>180.000000</td>\n",
              "      <td>180.000000</td>\n",
              "      <td>41624300</td>\n",
              "      <td>AMAZON</td>\n",
              "    </tr>\n",
              "    <tr>\n",
              "      <th>2024-04-05</th>\n",
              "      <td>182.380005</td>\n",
              "      <td>186.270004</td>\n",
              "      <td>181.970001</td>\n",
              "      <td>185.070007</td>\n",
              "      <td>185.070007</td>\n",
              "      <td>42335200</td>\n",
              "      <td>AMAZON</td>\n",
              "    </tr>\n",
              "    <tr>\n",
              "      <th>2024-04-08</th>\n",
              "      <td>186.899994</td>\n",
              "      <td>187.289993</td>\n",
              "      <td>184.809998</td>\n",
              "      <td>185.190002</td>\n",
              "      <td>185.190002</td>\n",
              "      <td>39221300</td>\n",
              "      <td>AMAZON</td>\n",
              "    </tr>\n",
              "    <tr>\n",
              "      <th>2024-04-09</th>\n",
              "      <td>187.240005</td>\n",
              "      <td>187.339996</td>\n",
              "      <td>184.199997</td>\n",
              "      <td>185.669998</td>\n",
              "      <td>185.669998</td>\n",
              "      <td>36546900</td>\n",
              "      <td>AMAZON</td>\n",
              "    </tr>\n",
              "    <tr>\n",
              "      <th>2024-04-10</th>\n",
              "      <td>182.770004</td>\n",
              "      <td>186.270004</td>\n",
              "      <td>182.669998</td>\n",
              "      <td>185.949997</td>\n",
              "      <td>185.949997</td>\n",
              "      <td>35879200</td>\n",
              "      <td>AMAZON</td>\n",
              "    </tr>\n",
              "    <tr>\n",
              "      <th>2024-04-11</th>\n",
              "      <td>186.740005</td>\n",
              "      <td>189.770004</td>\n",
              "      <td>185.509995</td>\n",
              "      <td>189.050003</td>\n",
              "      <td>189.050003</td>\n",
              "      <td>40020700</td>\n",
              "      <td>AMAZON</td>\n",
              "    </tr>\n",
              "    <tr>\n",
              "      <th>2024-04-12</th>\n",
              "      <td>187.720001</td>\n",
              "      <td>188.380005</td>\n",
              "      <td>185.080002</td>\n",
              "      <td>186.130005</td>\n",
              "      <td>186.130005</td>\n",
              "      <td>38554300</td>\n",
              "      <td>AMAZON</td>\n",
              "    </tr>\n",
              "    <tr>\n",
              "      <th>2024-04-15</th>\n",
              "      <td>187.425003</td>\n",
              "      <td>188.690002</td>\n",
              "      <td>183.070007</td>\n",
              "      <td>183.619995</td>\n",
              "      <td>183.619995</td>\n",
              "      <td>47933970</td>\n",
              "      <td>AMAZON</td>\n",
              "    </tr>\n",
              "  </tbody>\n",
              "</table>\n",
              "</div>\n",
              "    <div class=\"colab-df-buttons\">\n",
              "\n",
              "  <div class=\"colab-df-container\">\n",
              "    <button class=\"colab-df-convert\" onclick=\"convertToInteractive('df-c41c6bf5-1d88-47ee-ae5d-ad74bd3be305')\"\n",
              "            title=\"Convert this dataframe to an interactive table.\"\n",
              "            style=\"display:none;\">\n",
              "\n",
              "  <svg xmlns=\"http://www.w3.org/2000/svg\" height=\"24px\" viewBox=\"0 -960 960 960\">\n",
              "    <path d=\"M120-120v-720h720v720H120Zm60-500h600v-160H180v160Zm220 220h160v-160H400v160Zm0 220h160v-160H400v160ZM180-400h160v-160H180v160Zm440 0h160v-160H620v160ZM180-180h160v-160H180v160Zm440 0h160v-160H620v160Z\"/>\n",
              "  </svg>\n",
              "    </button>\n",
              "\n",
              "  <style>\n",
              "    .colab-df-container {\n",
              "      display:flex;\n",
              "      gap: 12px;\n",
              "    }\n",
              "\n",
              "    .colab-df-convert {\n",
              "      background-color: #E8F0FE;\n",
              "      border: none;\n",
              "      border-radius: 50%;\n",
              "      cursor: pointer;\n",
              "      display: none;\n",
              "      fill: #1967D2;\n",
              "      height: 32px;\n",
              "      padding: 0 0 0 0;\n",
              "      width: 32px;\n",
              "    }\n",
              "\n",
              "    .colab-df-convert:hover {\n",
              "      background-color: #E2EBFA;\n",
              "      box-shadow: 0px 1px 2px rgba(60, 64, 67, 0.3), 0px 1px 3px 1px rgba(60, 64, 67, 0.15);\n",
              "      fill: #174EA6;\n",
              "    }\n",
              "\n",
              "    .colab-df-buttons div {\n",
              "      margin-bottom: 4px;\n",
              "    }\n",
              "\n",
              "    [theme=dark] .colab-df-convert {\n",
              "      background-color: #3B4455;\n",
              "      fill: #D2E3FC;\n",
              "    }\n",
              "\n",
              "    [theme=dark] .colab-df-convert:hover {\n",
              "      background-color: #434B5C;\n",
              "      box-shadow: 0px 1px 3px 1px rgba(0, 0, 0, 0.15);\n",
              "      filter: drop-shadow(0px 1px 2px rgba(0, 0, 0, 0.3));\n",
              "      fill: #FFFFFF;\n",
              "    }\n",
              "  </style>\n",
              "\n",
              "    <script>\n",
              "      const buttonEl =\n",
              "        document.querySelector('#df-c41c6bf5-1d88-47ee-ae5d-ad74bd3be305 button.colab-df-convert');\n",
              "      buttonEl.style.display =\n",
              "        google.colab.kernel.accessAllowed ? 'block' : 'none';\n",
              "\n",
              "      async function convertToInteractive(key) {\n",
              "        const element = document.querySelector('#df-c41c6bf5-1d88-47ee-ae5d-ad74bd3be305');\n",
              "        const dataTable =\n",
              "          await google.colab.kernel.invokeFunction('convertToInteractive',\n",
              "                                                    [key], {});\n",
              "        if (!dataTable) return;\n",
              "\n",
              "        const docLinkHtml = 'Like what you see? Visit the ' +\n",
              "          '<a target=\"_blank\" href=https://colab.research.google.com/notebooks/data_table.ipynb>data table notebook</a>'\n",
              "          + ' to learn more about interactive tables.';\n",
              "        element.innerHTML = '';\n",
              "        dataTable['output_type'] = 'display_data';\n",
              "        await google.colab.output.renderOutput(dataTable, element);\n",
              "        const docLink = document.createElement('div');\n",
              "        docLink.innerHTML = docLinkHtml;\n",
              "        element.appendChild(docLink);\n",
              "      }\n",
              "    </script>\n",
              "  </div>\n",
              "\n",
              "\n",
              "<div id=\"df-84b44ea6-9d8c-4e16-88b7-82ce06b519fe\">\n",
              "  <button class=\"colab-df-quickchart\" onclick=\"quickchart('df-84b44ea6-9d8c-4e16-88b7-82ce06b519fe')\"\n",
              "            title=\"Suggest charts\"\n",
              "            style=\"display:none;\">\n",
              "\n",
              "<svg xmlns=\"http://www.w3.org/2000/svg\" height=\"24px\"viewBox=\"0 0 24 24\"\n",
              "     width=\"24px\">\n",
              "    <g>\n",
              "        <path d=\"M19 3H5c-1.1 0-2 .9-2 2v14c0 1.1.9 2 2 2h14c1.1 0 2-.9 2-2V5c0-1.1-.9-2-2-2zM9 17H7v-7h2v7zm4 0h-2V7h2v10zm4 0h-2v-4h2v4z\"/>\n",
              "    </g>\n",
              "</svg>\n",
              "  </button>\n",
              "\n",
              "<style>\n",
              "  .colab-df-quickchart {\n",
              "      --bg-color: #E8F0FE;\n",
              "      --fill-color: #1967D2;\n",
              "      --hover-bg-color: #E2EBFA;\n",
              "      --hover-fill-color: #174EA6;\n",
              "      --disabled-fill-color: #AAA;\n",
              "      --disabled-bg-color: #DDD;\n",
              "  }\n",
              "\n",
              "  [theme=dark] .colab-df-quickchart {\n",
              "      --bg-color: #3B4455;\n",
              "      --fill-color: #D2E3FC;\n",
              "      --hover-bg-color: #434B5C;\n",
              "      --hover-fill-color: #FFFFFF;\n",
              "      --disabled-bg-color: #3B4455;\n",
              "      --disabled-fill-color: #666;\n",
              "  }\n",
              "\n",
              "  .colab-df-quickchart {\n",
              "    background-color: var(--bg-color);\n",
              "    border: none;\n",
              "    border-radius: 50%;\n",
              "    cursor: pointer;\n",
              "    display: none;\n",
              "    fill: var(--fill-color);\n",
              "    height: 32px;\n",
              "    padding: 0;\n",
              "    width: 32px;\n",
              "  }\n",
              "\n",
              "  .colab-df-quickchart:hover {\n",
              "    background-color: var(--hover-bg-color);\n",
              "    box-shadow: 0 1px 2px rgba(60, 64, 67, 0.3), 0 1px 3px 1px rgba(60, 64, 67, 0.15);\n",
              "    fill: var(--button-hover-fill-color);\n",
              "  }\n",
              "\n",
              "  .colab-df-quickchart-complete:disabled,\n",
              "  .colab-df-quickchart-complete:disabled:hover {\n",
              "    background-color: var(--disabled-bg-color);\n",
              "    fill: var(--disabled-fill-color);\n",
              "    box-shadow: none;\n",
              "  }\n",
              "\n",
              "  .colab-df-spinner {\n",
              "    border: 2px solid var(--fill-color);\n",
              "    border-color: transparent;\n",
              "    border-bottom-color: var(--fill-color);\n",
              "    animation:\n",
              "      spin 1s steps(1) infinite;\n",
              "  }\n",
              "\n",
              "  @keyframes spin {\n",
              "    0% {\n",
              "      border-color: transparent;\n",
              "      border-bottom-color: var(--fill-color);\n",
              "      border-left-color: var(--fill-color);\n",
              "    }\n",
              "    20% {\n",
              "      border-color: transparent;\n",
              "      border-left-color: var(--fill-color);\n",
              "      border-top-color: var(--fill-color);\n",
              "    }\n",
              "    30% {\n",
              "      border-color: transparent;\n",
              "      border-left-color: var(--fill-color);\n",
              "      border-top-color: var(--fill-color);\n",
              "      border-right-color: var(--fill-color);\n",
              "    }\n",
              "    40% {\n",
              "      border-color: transparent;\n",
              "      border-right-color: var(--fill-color);\n",
              "      border-top-color: var(--fill-color);\n",
              "    }\n",
              "    60% {\n",
              "      border-color: transparent;\n",
              "      border-right-color: var(--fill-color);\n",
              "    }\n",
              "    80% {\n",
              "      border-color: transparent;\n",
              "      border-right-color: var(--fill-color);\n",
              "      border-bottom-color: var(--fill-color);\n",
              "    }\n",
              "    90% {\n",
              "      border-color: transparent;\n",
              "      border-bottom-color: var(--fill-color);\n",
              "    }\n",
              "  }\n",
              "</style>\n",
              "\n",
              "  <script>\n",
              "    async function quickchart(key) {\n",
              "      const quickchartButtonEl =\n",
              "        document.querySelector('#' + key + ' button');\n",
              "      quickchartButtonEl.disabled = true;  // To prevent multiple clicks.\n",
              "      quickchartButtonEl.classList.add('colab-df-spinner');\n",
              "      try {\n",
              "        const charts = await google.colab.kernel.invokeFunction(\n",
              "            'suggestCharts', [key], {});\n",
              "      } catch (error) {\n",
              "        console.error('Error during call to suggestCharts:', error);\n",
              "      }\n",
              "      quickchartButtonEl.classList.remove('colab-df-spinner');\n",
              "      quickchartButtonEl.classList.add('colab-df-quickchart-complete');\n",
              "    }\n",
              "    (() => {\n",
              "      let quickchartButtonEl =\n",
              "        document.querySelector('#df-84b44ea6-9d8c-4e16-88b7-82ce06b519fe button');\n",
              "      quickchartButtonEl.style.display =\n",
              "        google.colab.kernel.accessAllowed ? 'block' : 'none';\n",
              "    })();\n",
              "  </script>\n",
              "</div>\n",
              "\n",
              "    </div>\n",
              "  </div>\n"
            ],
            "application/vnd.google.colaboratory.intrinsic+json": {
              "type": "dataframe",
              "summary": "{\n  \"name\": \"df\",\n  \"rows\": 10,\n  \"fields\": [\n    {\n      \"column\": \"Date\",\n      \"properties\": {\n        \"dtype\": \"date\",\n        \"min\": \"2024-04-02 00:00:00\",\n        \"max\": \"2024-04-15 00:00:00\",\n        \"num_unique_values\": 10,\n        \"samples\": [\n          \"2024-04-12 00:00:00\",\n          \"2024-04-03 00:00:00\",\n          \"2024-04-09 00:00:00\"\n        ],\n        \"semantic_type\": \"\",\n        \"description\": \"\"\n      }\n    },\n    {\n      \"column\": \"Open\",\n      \"properties\": {\n        \"dtype\": \"number\",\n        \"std\": 3.2577824443883716,\n        \"min\": 179.07000732421875,\n        \"max\": 187.72000122070312,\n        \"num_unique_values\": 10,\n        \"samples\": [\n          187.72000122070312,\n          179.89999389648438,\n          187.24000549316406\n        ],\n        \"semantic_type\": \"\",\n        \"description\": \"\"\n      }\n    },\n    {\n      \"column\": \"High\",\n      \"properties\": {\n        \"dtype\": \"number\",\n        \"std\": 2.7427225573873812,\n        \"min\": 180.7899932861328,\n        \"max\": 189.77000427246094,\n        \"num_unique_values\": 9,\n        \"samples\": [\n          188.3800048828125,\n          182.8699951171875,\n          187.33999633789062\n        ],\n        \"semantic_type\": \"\",\n        \"description\": \"\"\n      }\n    },\n    {\n      \"column\": \"Low\",\n      \"properties\": {\n        \"dtype\": \"number\",\n        \"std\": 2.4735847559803816,\n        \"min\": 178.3800048828125,\n        \"max\": 185.50999450683594,\n        \"num_unique_values\": 10,\n        \"samples\": [\n          185.0800018310547,\n          179.8000030517578,\n          184.1999969482422\n        ],\n        \"semantic_type\": \"\",\n        \"description\": \"\"\n      }\n    },\n    {\n      \"column\": \"Close\",\n      \"properties\": {\n        \"dtype\": \"number\",\n        \"std\": 2.7364125010066314,\n        \"min\": 180.0,\n        \"max\": 189.0500030517578,\n        \"num_unique_values\": 10,\n        \"samples\": [\n          186.1300048828125,\n          182.41000366210938,\n          185.6699981689453\n        ],\n        \"semantic_type\": \"\",\n        \"description\": \"\"\n      }\n    },\n    {\n      \"column\": \"Adj Close\",\n      \"properties\": {\n        \"dtype\": \"number\",\n        \"std\": 2.7364125010066314,\n        \"min\": 180.0,\n        \"max\": 189.0500030517578,\n        \"num_unique_values\": 10,\n        \"samples\": [\n          186.1300048828125,\n          182.41000366210938,\n          185.6699981689453\n        ],\n        \"semantic_type\": \"\",\n        \"description\": \"\"\n      }\n    },\n    {\n      \"column\": \"Volume\",\n      \"properties\": {\n        \"dtype\": \"number\",\n        \"std\": 4912076,\n        \"min\": 31046600,\n        \"max\": 47933970,\n        \"num_unique_values\": 10,\n        \"samples\": [\n          38554300,\n          31046600,\n          36546900\n        ],\n        \"semantic_type\": \"\",\n        \"description\": \"\"\n      }\n    },\n    {\n      \"column\": \"company_name\",\n      \"properties\": {\n        \"dtype\": \"category\",\n        \"num_unique_values\": 1,\n        \"samples\": [\n          \"AMAZON\"\n        ],\n        \"semantic_type\": \"\",\n        \"description\": \"\"\n      }\n    }\n  ]\n}"
            }
          },
          "metadata": {},
          "execution_count": 4
        }
      ]
    },
    {
      "cell_type": "markdown",
      "source": [
        "# Seleccionar los datos de una de las compañías previamente ejecutadas y obtener los valores de stock de cierre (Close o Adj close)"
      ],
      "metadata": {
        "id": "xV_O7cFMSKyG"
      }
    },
    {
      "cell_type": "code",
      "source": [],
      "metadata": {
        "id": "I8AaZrZ2CFwz"
      },
      "execution_count": null,
      "outputs": []
    },
    {
      "cell_type": "markdown",
      "source": [
        "## Graficar la variación de los precios de salida a lo largo del tiempo seleccionado"
      ],
      "metadata": {
        "id": "3oRBYoh1StoY"
      }
    },
    {
      "cell_type": "code",
      "source": [],
      "metadata": {
        "id": "GUW81M-NS98M"
      },
      "execution_count": null,
      "outputs": []
    },
    {
      "cell_type": "markdown",
      "source": [
        "## Tomar el 60% de los datos para entrenar 20% para validación y 20% para test"
      ],
      "metadata": {
        "id": "XjIq7O27qtqw"
      }
    },
    {
      "cell_type": "code",
      "source": [
        "raw_data = 'Colocar aqui los datos de la columan en cuestion' #nota: usar .value para convertirlo en un array de numpy\n",
        "num_train_samples = int(0.6 * len(raw_data)) #60% de los datos\n",
        "num_val_samples = int(0.2 * len(raw_data)) #20% de los datos\n",
        "num_test_samples = len(raw_data) - num_train_samples - num_val_samples #los datos restantes\n",
        "print(\"num_train_samples:\", num_train_samples)\n",
        "print(\"num_val_samples:\", num_val_samples)\n",
        "print(\"num_test_samples:\", num_test_samples)"
      ],
      "metadata": {
        "id": "jV-3raOTqtKt"
      },
      "execution_count": null,
      "outputs": []
    },
    {
      "cell_type": "code",
      "source": [
        "# Estandarizacion de los datos. primero restamos los valores por la media y luego se dividen por\n",
        "# la desviación estandar\n",
        "mean = raw_data[:num_train_samples].mean(axis=0)\n",
        "raw_data -= mean\n",
        "std = raw_data[:num_train_samples].std(axis=0)\n",
        "raw_data /= std\n"
      ],
      "metadata": {
        "id": "n3fv2Zr26tgX"
      },
      "execution_count": null,
      "outputs": []
    },
    {
      "cell_type": "markdown",
      "source": [
        "## Dividir los datos en X y Y.\n",
        "Aquí realizamos en ejemplo con el entrenamiento. **Elaborar los datos para el test y validación**"
      ],
      "metadata": {
        "id": "7rnY63cGPzq8"
      }
    },
    {
      "cell_type": "code",
      "source": [
        "# dividir los en x_train y y_train\n",
        "\n",
        "train_data = raw_data[:num_train_samples]\n",
        "valid_data = 'datos de validacion'\n",
        "test_data = 'datos de test' #\n",
        "x_train = []\n",
        "y_train = []\n",
        "\n",
        "sequence_length = 60\n",
        "\n",
        "for i in range(sequence_length, len(train_data)):\n",
        "    x_train.append(train_data[i-sequence_length:i]) #obtenemos los datos de la secuencia 0-59\n",
        "    y_train.append(train_data[i]) #el dato 60 se convierte en el target\n",
        "    if i<= 61:\n",
        "        print(x_train)\n",
        "        print(y_train)\n",
        "\n",
        "\n",
        "# Convertimos x_train y y_train en arrays de numpy\n",
        "x_train, y_train = np.array(x_train), np.array(y_train)\n"
      ],
      "metadata": {
        "id": "-wr60Louzm_l"
      },
      "execution_count": null,
      "outputs": []
    },
    {
      "cell_type": "code",
      "source": [
        "x_train.shape\n"
      ],
      "metadata": {
        "colab": {
          "base_uri": "https://localhost:8080/"
        },
        "id": "2ivwOnkdq4B0",
        "outputId": "b326b210-0859-4439-dedb-de7a207bc975"
      },
      "execution_count": null,
      "outputs": [
        {
          "output_type": "execute_result",
          "data": {
            "text/plain": [
              "(91, 60)"
            ]
          },
          "metadata": {},
          "execution_count": 30
        }
      ]
    },
    {
      "cell_type": "markdown",
      "source": [
        "Para crear nuestro dataset de entrenamiento, prueba y validación usaremos la función 'timeseries_dataset_from_array'.\n",
        "\n",
        "La idea general es que al proporcionar una matriz de datos de series temporales (el argumento de datos), timeseries_dataset_from_array\n",
        "te da ventanas extraídas de la serie temporal original.\n",
        "\n",
        "Por ejemplo, supomgamos que nuestros datos son: [0 1 2 3 4 5 6] y sequence_length=3, entonces timeseries_dataset_from_array generará las siguientes muestras: [0 1 2], [2 3 4], [3 4 5], [4 5 6].\n",
        "\n",
        "Usaremos la función timeseries_dataset_from_array para inicializar tres datasets: uno para entrenamiento, otro para prueba y otro para validación:\n",
        "\n",
        "\n",
        "* sequence_length : Longitud de las secuencias de salida (en número de pasos de tiempo).\n",
        "\n",
        "\n",
        "Documentación: https://www.tensorflow.org/api_docs/python/tf/keras/utils/timeseries_dataset_from_array\n"
      ],
      "metadata": {
        "id": "GPHeosUet3dD"
      }
    },
    {
      "cell_type": "code",
      "source": [
        "import numpy as np\n",
        "from tensorflow import keras\n",
        "\n",
        "batch_size = 4\n",
        "\n",
        "train_dataset = keras.utils.timeseries_dataset_from_array(\n",
        "                    x_train,\n",
        "                    targets=y_train,\n",
        "                    sequence_length=sequence_length,\n",
        "                    shuffle=True,\n",
        "                    batch_size=batch_size)"
      ],
      "metadata": {
        "id": "wsK6XqZKseDG"
      },
      "execution_count": null,
      "outputs": []
    },
    {
      "cell_type": "code",
      "source": [
        "for samples, target in train_dataset:\n",
        "  print(f'sample shape: {samples.shape}, target shape: {target.shape}')"
      ],
      "metadata": {
        "id": "eOADBMx_9GNf"
      },
      "execution_count": null,
      "outputs": []
    },
    {
      "cell_type": "markdown",
      "source": [
        "# Crear Modelo"
      ],
      "metadata": {
        "id": "a1AhkHCE_AyK"
      }
    },
    {
      "cell_type": "code",
      "source": [],
      "metadata": {
        "id": "M7fZpPx9-_qJ"
      },
      "execution_count": null,
      "outputs": []
    },
    {
      "cell_type": "markdown",
      "source": [
        "# Evaluación del modelo"
      ],
      "metadata": {
        "id": "bcj_PpmG_ULI"
      }
    },
    {
      "cell_type": "code",
      "source": [],
      "metadata": {
        "id": "_LOUmbYj_W-A"
      },
      "execution_count": null,
      "outputs": []
    },
    {
      "cell_type": "markdown",
      "source": [
        "## Graficar resultados"
      ],
      "metadata": {
        "id": "wrtV_kRn_XeD"
      }
    },
    {
      "cell_type": "code",
      "source": [],
      "metadata": {
        "id": "83f4mvGT_bYt"
      },
      "execution_count": null,
      "outputs": []
    }
  ]
}