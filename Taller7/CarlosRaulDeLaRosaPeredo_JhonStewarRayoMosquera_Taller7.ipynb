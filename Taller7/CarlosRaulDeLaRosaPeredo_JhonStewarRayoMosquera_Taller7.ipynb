version https://git-lfs.github.com/spec/v1
oid sha256:0f18532d05194d29acce47a026f3759b64e9a7e85d61b2e7cabe26a98f542fa2
size 2912807
