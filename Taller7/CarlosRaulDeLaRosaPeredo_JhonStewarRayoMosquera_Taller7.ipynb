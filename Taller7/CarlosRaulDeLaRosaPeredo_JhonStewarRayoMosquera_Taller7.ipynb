version https://git-lfs.github.com/spec/v1
oid sha256:da7bbfd3b99750d4825c24dc2d0d33f5c6bc8dc5ac7189d72d8bc99e60eb5ff7
size 444786
