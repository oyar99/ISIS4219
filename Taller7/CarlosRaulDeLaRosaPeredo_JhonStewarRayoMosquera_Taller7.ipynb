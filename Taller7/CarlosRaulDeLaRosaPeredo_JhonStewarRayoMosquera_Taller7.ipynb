version https://git-lfs.github.com/spec/v1
oid sha256:d10d06ca90fba8df2c822ab7eb856dca9126da446f767a3c4423f9ef8f4bb4e2
size 2913423
