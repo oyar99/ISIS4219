version https://git-lfs.github.com/spec/v1
oid sha256:299e9a6a145c75d0cfad4b0a62e40ab457b3aeae3310f1c845996c2c52ce139a
size 1002779
