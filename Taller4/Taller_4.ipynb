{
  "cells": [
    {
      "cell_type": "markdown",
      "metadata": {
        "id": "view-in-github"
      },
      "source": [
        "<a href=\"https://colab.research.google.com/github/hectormelo/Machine-Learning-Techniques/blob/main/Taller_4/Taller_4.ipynb\" target=\"_parent\"><img src=\"https://colab.research.google.com/assets/colab-badge.svg\" alt=\"Open In Colab\"/></a>"
      ]
    },
    {
      "cell_type": "markdown",
      "metadata": {
        "id": "yF3pUagPpBXi"
      },
      "source": [
        "<img src=\"https://raw.githubusercontent.com/hectormelo/Machine-Learning-Techniques/main/Banner.png\" ><br>\n",
        "# Machine Learning Techniques - MISIS4219\n",
        "\n",
        "Primer Semestre - 2024"
      ]
    },
    {
      "cell_type": "markdown",
      "metadata": {
        "id": "hRBapeK93Ayp"
      },
      "source": [
        "* **Integrante 1:** Jhon Stewar Rayo Mosquera\n",
        "* **Integrante 2:** Carlos Raúl de la Rosa Peredo"
      ]
    },
    {
      "cell_type": "markdown",
      "metadata": {
        "id": "mGTZhaDaKFw9"
      },
      "source": [
        "### Modelo de agrupación\n",
        "\n",
        "El conjunto de datos \"Tech Students' Profile Prediction\" contiene información sobre las habilidades, preferencias profesionales y antecedentes académicos de estudiantes en el campo de la tecnología. En este proyecto, se busca aplicar técnicas de agrupación para identificar grupos de estudiantes con perfiles similares, lo que podría ser útil para la orientación profesional y la personalización de programas educativos.\n",
        "\n",
        "El objetivo de este proyecto es desarrollar un modelo de agrupación que clasifique a los estudiantes en función de sus habilidades, intereses y antecedentes, utilizando los datos proporcionados en el conjunto de datos \"Tech Students' Profile Prediction\". Este modelo deberá ser capaz de identificar patrones y tendencias en los perfiles de los estudiantes, lo que podría ayudar a las instituciones educativas y a los empleadores a adaptar sus estrategias de enseñanza y contratación.\n",
        "\n",
        "Para poder realizar este proyecto, se le piden los siguientes análisis:\n",
        "\n",
        "* Realizar la agrupación con el Algoritmo k-Means. Obtener los centroides e interpretarlos.\n",
        "\n",
        "\n",
        "**Fuente de datos:** [Tech Students' Profile Prediction](https://www.kaggle.com/datasets/scarecrow2020/tech-students-profile-prediction)"
      ]
    },
    {
      "cell_type": "markdown",
      "metadata": {
        "id": "ReK4MpESy90r"
      },
      "source": [
        "### 0. Importar librerías\n",
        "\n"
      ]
    },
    {
      "cell_type": "code",
      "execution_count": 1,
      "metadata": {
        "id": "nd4F6hlSzLth"
      },
      "outputs": [
        {
          "name": "stderr",
          "output_type": "stream",
          "text": [
            "/home/raul/.local/lib/python3.10/site-packages/matplotlib/projections/__init__.py:63: UserWarning: Unable to import Axes3D. This may be due to multiple versions of Matplotlib being installed (e.g. as a system package and as a pip package). As a result, the 3D projection is not available.\n",
            "  warnings.warn(\"Unable to import Axes3D. This may be due to multiple versions of \"\n"
          ]
        }
      ],
      "source": [
        "# Importamos las librerías requeridas para el desarrollo del modelo\n",
        "\n",
        "# Manejo de datos y visualización\n",
        "import pandas as pd\n",
        "import numpy as np\n",
        "import matplotlib.pyplot as plt\n",
        "import matplotlib.cm as cm\n",
        "import seaborn as sns\n",
        "\n",
        "# Algoritmo de cluster\n",
        "from sklearn.cluster import (\n",
        "    KMeans,\n",
        "    DBSCAN,\n",
        ")\n",
        "\n",
        "# Metricas de evaluación\n",
        "from sklearn.metrics import (\n",
        "    silhouette_score,\n",
        "    silhouette_samples,\n",
        "    rand_score,\n",
        ")\n",
        "\n",
        "from sklearn.feature_extraction.text import TfidfVectorizer\n",
        "from sklearn.decomposition import PCA, IncrementalPCA"
      ]
    },
    {
      "cell_type": "markdown",
      "metadata": {
        "id": "TCsCT5yL5Ux2"
      },
      "source": [
        "### 1. Procesamiento y entendimiento de los datos"
      ]
    },
    {
      "cell_type": "code",
      "execution_count": 2,
      "metadata": {
        "colab": {
          "base_uri": "https://localhost:8080/"
        },
        "id": "IBHxb8O000bH",
        "outputId": "2985c050-bd18-470d-91e7-920e3ebeb5b4"
      },
      "outputs": [
        {
          "name": "stdout",
          "output_type": "stream",
          "text": [
            "cp: no se puede efectuar `stat' sobre 'kaggle.json': No existe el archivo o el directorio\n",
            "/home/raul/Escritorio/extra/misis/ml_tech/Machine-Learning-Assignments/Taller4/content\n"
          ]
        },
        {
          "name": "stderr",
          "output_type": "stream",
          "text": [
            "/home/raul/.local/lib/python3.10/site-packages/IPython/core/magics/osm.py:417: UserWarning: using dhist requires you to install the `pickleshare` library.\n",
            "  self.shell.db['dhist'] = compress_dhist(dhist)[-100:]\n"
          ]
        },
        {
          "name": "stdout",
          "output_type": "stream",
          "text": [
            "Downloading tech-students-profile-prediction.zip to /home/raul/Escritorio/extra/misis/ml_tech/Machine-Learning-Assignments/Taller4/content\n",
            "100%|█████████████████████████████████████████| 666k/666k [00:01<00:00, 620kB/s]\n",
            "100%|█████████████████████████████████████████| 666k/666k [00:01<00:00, 620kB/s]\n",
            "Archive:  tech-students-profile-prediction.zip\n",
            "  inflating: dataset-tortuga.csv     \n",
            "  inflating: to_be_scored_tortuga.csv  \n",
            "/home/raul/Escritorio/extra/misis/ml_tech/Machine-Learning-Assignments/Taller4\n"
          ]
        }
      ],
      "source": [
        "# Descargamos el data set\n",
        "\n",
        "! mkdir -p ~/.kaggle\n",
        "! cp kaggle.json ~/.kaggle/\n",
        "! chmod 600 ~/.kaggle/kaggle.json\n",
        "\n",
        "! mkdir -p content\n",
        "%cd content\n",
        "! kaggle datasets download scarecrow2020/tech-students-profile-prediction --force\n",
        "! unzip -o tech-students-profile-prediction.zip\n",
        "%cd ../"
      ]
    },
    {
      "cell_type": "code",
      "execution_count": 3,
      "metadata": {
        "colab": {
          "base_uri": "https://localhost:8080/",
          "height": 313
        },
        "id": "bNtEMGHE5Y3m",
        "outputId": "7b009d17-02fe-4f71-f35d-891950518042"
      },
      "outputs": [
        {
          "data": {
            "text/html": [
              "<div>\n",
              "<style scoped>\n",
              "    .dataframe tbody tr th:only-of-type {\n",
              "        vertical-align: middle;\n",
              "    }\n",
              "\n",
              "    .dataframe tbody tr th {\n",
              "        vertical-align: top;\n",
              "    }\n",
              "\n",
              "    .dataframe thead th {\n",
              "        text-align: right;\n",
              "    }\n",
              "</style>\n",
              "<table border=\"1\" class=\"dataframe\">\n",
              "  <thead>\n",
              "    <tr style=\"text-align: right;\">\n",
              "      <th></th>\n",
              "      <th>Unnamed: 0</th>\n",
              "      <th>NAME</th>\n",
              "      <th>USER_ID</th>\n",
              "      <th>HOURS_DATASCIENCE</th>\n",
              "      <th>HOURS_BACKEND</th>\n",
              "      <th>HOURS_FRONTEND</th>\n",
              "      <th>NUM_COURSES_BEGINNER_DATASCIENCE</th>\n",
              "      <th>NUM_COURSES_BEGINNER_BACKEND</th>\n",
              "      <th>NUM_COURSES_BEGINNER_FRONTEND</th>\n",
              "      <th>NUM_COURSES_ADVANCED_DATASCIENCE</th>\n",
              "      <th>NUM_COURSES_ADVANCED_BACKEND</th>\n",
              "      <th>NUM_COURSES_ADVANCED_FRONTEND</th>\n",
              "      <th>AVG_SCORE_DATASCIENCE</th>\n",
              "      <th>AVG_SCORE_BACKEND</th>\n",
              "      <th>AVG_SCORE_FRONTEND</th>\n",
              "      <th>PROFILE</th>\n",
              "    </tr>\n",
              "  </thead>\n",
              "  <tbody>\n",
              "    <tr>\n",
              "      <th>0</th>\n",
              "      <td>28</td>\n",
              "      <td>Stormy Muto</td>\n",
              "      <td>58283940</td>\n",
              "      <td>7.0</td>\n",
              "      <td>39.0</td>\n",
              "      <td>29.0</td>\n",
              "      <td>2.0</td>\n",
              "      <td>4.0</td>\n",
              "      <td>0.0</td>\n",
              "      <td>2.0</td>\n",
              "      <td>5.0</td>\n",
              "      <td>0.0</td>\n",
              "      <td>84.0</td>\n",
              "      <td>74.0</td>\n",
              "      <td>NaN</td>\n",
              "      <td>beginner_front_end</td>\n",
              "    </tr>\n",
              "    <tr>\n",
              "      <th>1</th>\n",
              "      <td>81</td>\n",
              "      <td>Carlos Ferro</td>\n",
              "      <td>1357218</td>\n",
              "      <td>32.0</td>\n",
              "      <td>0.0</td>\n",
              "      <td>44.0</td>\n",
              "      <td>2.0</td>\n",
              "      <td>0.0</td>\n",
              "      <td>0.0</td>\n",
              "      <td>0.0</td>\n",
              "      <td>5.0</td>\n",
              "      <td>0.0</td>\n",
              "      <td>67.0</td>\n",
              "      <td>45.0</td>\n",
              "      <td>NaN</td>\n",
              "      <td>beginner_front_end</td>\n",
              "    </tr>\n",
              "    <tr>\n",
              "      <th>2</th>\n",
              "      <td>89</td>\n",
              "      <td>Robby Constantini</td>\n",
              "      <td>63212105</td>\n",
              "      <td>45.0</td>\n",
              "      <td>0.0</td>\n",
              "      <td>59.0</td>\n",
              "      <td>0.0</td>\n",
              "      <td>5.0</td>\n",
              "      <td>4.0</td>\n",
              "      <td>0.0</td>\n",
              "      <td>4.0</td>\n",
              "      <td>1.0</td>\n",
              "      <td>NaN</td>\n",
              "      <td>54.0</td>\n",
              "      <td>47.0</td>\n",
              "      <td>advanced_front_end</td>\n",
              "    </tr>\n",
              "    <tr>\n",
              "      <th>3</th>\n",
              "      <td>138</td>\n",
              "      <td>Paul Mckenny</td>\n",
              "      <td>23239851</td>\n",
              "      <td>36.0</td>\n",
              "      <td>19.0</td>\n",
              "      <td>28.0</td>\n",
              "      <td>0.0</td>\n",
              "      <td>5.0</td>\n",
              "      <td>7.0</td>\n",
              "      <td>0.0</td>\n",
              "      <td>5.0</td>\n",
              "      <td>3.0</td>\n",
              "      <td>NaN</td>\n",
              "      <td>71.0</td>\n",
              "      <td>89.0</td>\n",
              "      <td>beginner_data_science</td>\n",
              "    </tr>\n",
              "    <tr>\n",
              "      <th>4</th>\n",
              "      <td>143</td>\n",
              "      <td>Jean Webb</td>\n",
              "      <td>72234478</td>\n",
              "      <td>61.0</td>\n",
              "      <td>78.0</td>\n",
              "      <td>38.0</td>\n",
              "      <td>6.0</td>\n",
              "      <td>11.0</td>\n",
              "      <td>0.0</td>\n",
              "      <td>4.0</td>\n",
              "      <td>3.0</td>\n",
              "      <td>0.0</td>\n",
              "      <td>66.0</td>\n",
              "      <td>85.0</td>\n",
              "      <td>NaN</td>\n",
              "      <td>advanced_front_end</td>\n",
              "    </tr>\n",
              "  </tbody>\n",
              "</table>\n",
              "</div>"
            ],
            "text/plain": [
              "   Unnamed: 0               NAME   USER_ID  HOURS_DATASCIENCE  HOURS_BACKEND  \\\n",
              "0          28        Stormy Muto  58283940                7.0           39.0   \n",
              "1          81       Carlos Ferro   1357218               32.0            0.0   \n",
              "2          89  Robby Constantini  63212105               45.0            0.0   \n",
              "3         138       Paul Mckenny  23239851               36.0           19.0   \n",
              "4         143          Jean Webb  72234478               61.0           78.0   \n",
              "\n",
              "   HOURS_FRONTEND  NUM_COURSES_BEGINNER_DATASCIENCE  \\\n",
              "0            29.0                               2.0   \n",
              "1            44.0                               2.0   \n",
              "2            59.0                               0.0   \n",
              "3            28.0                               0.0   \n",
              "4            38.0                               6.0   \n",
              "\n",
              "   NUM_COURSES_BEGINNER_BACKEND  NUM_COURSES_BEGINNER_FRONTEND  \\\n",
              "0                           4.0                            0.0   \n",
              "1                           0.0                            0.0   \n",
              "2                           5.0                            4.0   \n",
              "3                           5.0                            7.0   \n",
              "4                          11.0                            0.0   \n",
              "\n",
              "   NUM_COURSES_ADVANCED_DATASCIENCE  NUM_COURSES_ADVANCED_BACKEND  \\\n",
              "0                               2.0                           5.0   \n",
              "1                               0.0                           5.0   \n",
              "2                               0.0                           4.0   \n",
              "3                               0.0                           5.0   \n",
              "4                               4.0                           3.0   \n",
              "\n",
              "   NUM_COURSES_ADVANCED_FRONTEND  AVG_SCORE_DATASCIENCE  AVG_SCORE_BACKEND  \\\n",
              "0                            0.0                   84.0               74.0   \n",
              "1                            0.0                   67.0               45.0   \n",
              "2                            1.0                    NaN               54.0   \n",
              "3                            3.0                    NaN               71.0   \n",
              "4                            0.0                   66.0               85.0   \n",
              "\n",
              "   AVG_SCORE_FRONTEND                PROFILE  \n",
              "0                 NaN     beginner_front_end  \n",
              "1                 NaN     beginner_front_end  \n",
              "2                47.0     advanced_front_end  \n",
              "3                89.0  beginner_data_science  \n",
              "4                 NaN     advanced_front_end  "
            ]
          },
          "execution_count": 3,
          "metadata": {},
          "output_type": "execute_result"
        }
      ],
      "source": [
        "df = pd.read_csv('content/dataset-tortuga.csv')\n",
        "df.head()"
      ]
    },
    {
      "cell_type": "code",
      "execution_count": 6,
      "metadata": {},
      "outputs": [
        {
          "name": "stdout",
          "output_type": "stream",
          "text": [
            "<class 'pandas.core.frame.DataFrame'>\n",
            "RangeIndex: 20000 entries, 0 to 19999\n",
            "Data columns (total 16 columns):\n",
            " #   Column                            Non-Null Count  Dtype  \n",
            "---  ------                            --------------  -----  \n",
            " 0   Unnamed: 0                        20000 non-null  int64  \n",
            " 1   NAME                              20000 non-null  object \n",
            " 2   USER_ID                           20000 non-null  int64  \n",
            " 3   HOURS_DATASCIENCE                 19986 non-null  float64\n",
            " 4   HOURS_BACKEND                     19947 non-null  float64\n",
            " 5   HOURS_FRONTEND                    19984 non-null  float64\n",
            " 6   NUM_COURSES_BEGINNER_DATASCIENCE  19974 non-null  float64\n",
            " 7   NUM_COURSES_BEGINNER_BACKEND      19982 non-null  float64\n",
            " 8   NUM_COURSES_BEGINNER_FRONTEND     19961 non-null  float64\n",
            " 9   NUM_COURSES_ADVANCED_DATASCIENCE  19998 non-null  float64\n",
            " 10  NUM_COURSES_ADVANCED_BACKEND      19992 non-null  float64\n",
            " 11  NUM_COURSES_ADVANCED_FRONTEND     19963 non-null  float64\n",
            " 12  AVG_SCORE_DATASCIENCE             19780 non-null  float64\n",
            " 13  AVG_SCORE_BACKEND                 19916 non-null  float64\n",
            " 14  AVG_SCORE_FRONTEND                19832 non-null  float64\n",
            " 15  PROFILE                           20000 non-null  object \n",
            "dtypes: float64(12), int64(2), object(2)\n",
            "memory usage: 2.4+ MB\n"
          ]
        }
      ],
      "source": [
        "# Existen 13 columnas en el dataset con valores númericos que pueden ser utilizados\n",
        "# para perfilar a los estudiantes. Dichas columnas cuentan con valores nulos.\n",
        "df.info()"
      ]
    },
    {
      "cell_type": "code",
      "execution_count": 7,
      "metadata": {},
      "outputs": [],
      "source": [
        "# Se asumirá que los valores nulos en las columnas se debe a que\n",
        "# el estudiante no ha completado la información porque no cuenta \n",
        "# 'experencia' en esos rubros. \n",
        "# Se procederá a rellenar los valores nulos con 0.\n",
        "\n",
        "df = df.fillna(0)"
      ]
    },
    {
      "cell_type": "code",
      "execution_count": null,
      "metadata": {},
      "outputs": [],
      "source": []
    }
  ],
  "metadata": {
    "colab": {
      "provenance": []
    },
    "kernelspec": {
      "display_name": "Python 3",
      "name": "python3"
    },
    "language_info": {
      "codemirror_mode": {
        "name": "ipython",
        "version": 3
      },
      "file_extension": ".py",
      "mimetype": "text/x-python",
      "name": "python",
      "nbconvert_exporter": "python",
      "pygments_lexer": "ipython3",
      "version": "3.10.12"
    }
  },
  "nbformat": 4,
  "nbformat_minor": 0
}
